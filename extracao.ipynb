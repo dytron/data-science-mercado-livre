{
 "cells": [
  {
   "cell_type": "markdown",
   "metadata": {},
   "source": [
    "# Extração do Mercado Livre"
   ]
  },
  {
   "cell_type": "markdown",
   "metadata": {},
   "source": [
    "## 1. Obtenção dos links dos produtos\n",
    "Primeiramente, vamos extrair os links de todos os produtos."
   ]
  },
  {
   "cell_type": "markdown",
   "metadata": {},
   "source": [
    "### Instalação de bibliotecas"
   ]
  },
  {
   "cell_type": "code",
   "execution_count": 11,
   "metadata": {},
   "outputs": [
    {
     "name": "stdout",
     "output_type": "stream",
     "text": [
      "Requirement already satisfied: beautifulsoup4 in c:\\python311\\lib\\site-packages (4.12.2)\n",
      "Requirement already satisfied: soupsieve>1.2 in c:\\python311\\lib\\site-packages (from beautifulsoup4) (2.4.1)\n",
      "Note: you may need to restart the kernel to use updated packages.\n"
     ]
    },
    {
     "name": "stderr",
     "output_type": "stream",
     "text": [
      "\n",
      "[notice] A new release of pip available: 22.3 -> 23.1.2\n",
      "[notice] To update, run: python.exe -m pip install --upgrade pip\n"
     ]
    },
    {
     "name": "stdout",
     "output_type": "stream",
     "text": [
      "Requirement already satisfied: requests in c:\\python311\\lib\\site-packages (2.30.0)\n",
      "Requirement already satisfied: charset-normalizer<4,>=2 in c:\\python311\\lib\\site-packages (from requests) (3.1.0)\n",
      "Requirement already satisfied: idna<4,>=2.5 in c:\\python311\\lib\\site-packages (from requests) (3.4)\n",
      "Requirement already satisfied: urllib3<3,>=1.21.1 in c:\\python311\\lib\\site-packages (from requests) (2.0.2)\n",
      "Requirement already satisfied: certifi>=2017.4.17 in c:\\python311\\lib\\site-packages (from requests) (2023.5.7)\n",
      "Note: you may need to restart the kernel to use updated packages.\n"
     ]
    },
    {
     "name": "stderr",
     "output_type": "stream",
     "text": [
      "\n",
      "[notice] A new release of pip available: 22.3 -> 23.1.2\n",
      "[notice] To update, run: python.exe -m pip install --upgrade pip\n"
     ]
    },
    {
     "name": "stdout",
     "output_type": "stream",
     "text": [
      "Requirement already satisfied: pandas in c:\\python311\\lib\\site-packages (2.0.1)\n",
      "Requirement already satisfied: python-dateutil>=2.8.2 in c:\\users\\guilherme\\appdata\\roaming\\python\\python311\\site-packages (from pandas) (2.8.2)\n",
      "Requirement already satisfied: pytz>=2020.1 in c:\\python311\\lib\\site-packages (from pandas) (2023.3)\n",
      "Requirement already satisfied: tzdata>=2022.1 in c:\\python311\\lib\\site-packages (from pandas) (2023.3)\n",
      "Requirement already satisfied: numpy>=1.21.0 in c:\\python311\\lib\\site-packages (from pandas) (1.24.3)\n",
      "Requirement already satisfied: six>=1.5 in c:\\users\\guilherme\\appdata\\roaming\\python\\python311\\site-packages (from python-dateutil>=2.8.2->pandas) (1.16.0)\n",
      "Note: you may need to restart the kernel to use updated packages.\n"
     ]
    },
    {
     "name": "stderr",
     "output_type": "stream",
     "text": [
      "\n",
      "[notice] A new release of pip available: 22.3 -> 23.1.2\n",
      "[notice] To update, run: python.exe -m pip install --upgrade pip\n"
     ]
    },
    {
     "name": "stdout",
     "output_type": "stream",
     "text": [
      "Requirement already satisfied: numpy in c:\\python311\\lib\\site-packages (1.24.3)\n",
      "Note: you may need to restart the kernel to use updated packages.\n"
     ]
    },
    {
     "name": "stderr",
     "output_type": "stream",
     "text": [
      "\n",
      "[notice] A new release of pip available: 22.3 -> 23.1.2\n",
      "[notice] To update, run: python.exe -m pip install --upgrade pip\n"
     ]
    }
   ],
   "source": [
    "%pip install beautifulsoup4\n",
    "%pip install requests\n",
    "%pip install pandas\n",
    "%pip install numpy\n"
   ]
  },
  {
   "cell_type": "markdown",
   "metadata": {},
   "source": [
    "### Importando bibliotecas"
   ]
  },
  {
   "cell_type": "code",
   "execution_count": 1,
   "metadata": {},
   "outputs": [],
   "source": [
    "from bs4 import BeautifulSoup\n",
    "import requests\n",
    "import pandas as pd\n",
    "import numpy as np\n",
    "import time\n",
    "import csv"
   ]
  },
  {
   "cell_type": "markdown",
   "metadata": {},
   "source": [
    "### Lista de categorias\n",
    "Cada categoria tem um nome e um link, o qual será usado para obter links dos produtos em cada página."
   ]
  },
  {
   "cell_type": "code",
   "execution_count": 254,
   "metadata": {},
   "outputs": [],
   "source": [
    "category_list = [\n",
    "    {\n",
    "        'name': 'Celulares',\n",
    "        'link': 'https://www.mercadolivre.com.br/ofertas?container_id=MLB779535-1&domain_id=MLB-CELLPHONES&page='\n",
    "    }, \n",
    "    {\n",
    "        'name': 'Notebooks',\n",
    "        'link': 'https://www.mercadolivre.com.br/ofertas?container_id=MLB779536-1&domain_id=MLB-NOTEBOOKS&page='\n",
    "    },\n",
    "    {\n",
    "        'name': 'Tênis',\n",
    "        'link': 'https://www.mercadolivre.com.br/ofertas?container_id=MLB779537-1&domain_id=MLB-SNEAKERS&page='\n",
    "    },\n",
    "    {\n",
    "        'name': 'Fones',\n",
    "        'link': 'https://www.mercadolivre.com.br/ofertas?container_id=MLB779538-1&domain_id=MLB-HEADPHONES&page='\n",
    "    },\n",
    "    {\n",
    "        'name': 'TVs',\n",
    "        'link': 'https://www.mercadolivre.com.br/ofertas?container_id=MLB779539-1&domain_id=MLB-TELEVISIONS&page='\n",
    "    },\n",
    "    {\n",
    "        'name': 'Ferramentas',\n",
    "        'link': 'https://www.mercadolivre.com.br/ofertas?container_id=MLB779540-1&domain_id=MLB-WELDING_MACHINES&page='\n",
    "    },\n",
    "    {\n",
    "        'name': 'Smartwatches',\n",
    "        'link': 'https://www.mercadolivre.com.br/ofertas?container_id=MLB779541-1&domain_id=MLB-SMARTWATCHES&page='\n",
    "    },\n",
    "    {\n",
    "        'name': 'Caixas de som',\n",
    "        'link': 'https://www.mercadolivre.com.br/ofertas?container_id=MLB779542-1&domain_id=MLB-SPEAKERS&page='\n",
    "    },\n",
    "    {\n",
    "        'name': 'Perfumes',\n",
    "        'link': 'https://www.mercadolivre.com.br/ofertas?container_id=MLB779543-1&domain_id=MLB-PERFUMES&page='\n",
    "    },\n",
    "    {\n",
    "        'name': 'Bebês',\n",
    "        'link': 'https://www.mercadolivre.com.br/ofertas?container_id=MLB773331-2&deal_ids=MLB773331-2&page='\n",
    "    }\n",
    "]"
   ]
  },
  {
   "cell_type": "markdown",
   "metadata": {},
   "source": [
    "### Funções para requisição de páginas e extração de links"
   ]
  },
  {
   "cell_type": "code",
   "execution_count": 2,
   "metadata": {},
   "outputs": [],
   "source": [
    "def request_page(url, force = True):\n",
    "    success = not force\n",
    "    page = None\n",
    "    while not success:\n",
    "        try:\n",
    "            response = requests.get(url, allow_redirects=False, timeout=2)\n",
    "            if response.is_redirect:\n",
    "                # Ignorando este url por ter redirecionado\n",
    "                break\n",
    "            page = BeautifulSoup(response.text)\n",
    "            success = True\n",
    "        except requests.exceptions.RequestException as e:\n",
    "            print(f\"Erro na requisição de {url}\")\n",
    "            time.sleep(60)\n",
    "    return page\n",
    "\n",
    "def get_links_from_page(page):\n",
    "    links = []\n",
    "    if page != None: \n",
    "        link_tags = page.find_all('a',  class_ = 'promotion-item__link-container')\n",
    "        for tag in link_tags:\n",
    "            links.append(tag['href'])\n",
    "    return links\n",
    "\n",
    "\n",
    "    "
   ]
  },
  {
   "cell_type": "markdown",
   "metadata": {},
   "source": [
    "### Obtendo links dos produtos de todas as categorias"
   ]
  },
  {
   "cell_type": "code",
   "execution_count": 256,
   "metadata": {},
   "outputs": [
    {
     "name": "stdout",
     "output_type": "stream",
     "text": [
      "Produtos da categoria Celulares adicionados com sucesso (Total = 960)\n",
      "Produtos da categoria Notebooks adicionados com sucesso (Total = 780)\n",
      "Produtos da categoria Tênis adicionados com sucesso (Total = 720)\n",
      "Produtos da categoria Fones adicionados com sucesso (Total = 960)\n",
      "Produtos da categoria TVs adicionados com sucesso (Total = 263)\n",
      "Produtos da categoria Ferramentas adicionados com sucesso (Total = 960)\n",
      "Produtos da categoria Smartwatches adicionados com sucesso (Total = 960)\n",
      "Produtos da categoria Caixas de som adicionados com sucesso (Total = 960)\n",
      "Produtos da categoria Perfumes adicionados com sucesso (Total = 960)\n",
      "Produtos da categoria Bebês adicionados com sucesso (Total = 960)\n"
     ]
    }
   ],
   "source": [
    "product_links = []\n",
    "# Para cada categoria\n",
    "for category in category_list:\n",
    "    # Gere uma lista de páginas de 1 até 20\n",
    "    page_list = [f\"{category['link']}{i+1}\" for i in range(20)]\n",
    "    category_product_total = 0\n",
    "    # Para cada página desta categoria\n",
    "    for page in page_list:\n",
    "        page_doc = request_page(page)\n",
    "        links = get_links_from_page(page_doc)\n",
    "        # Já passou da última página? Pare esta categoria\n",
    "        if (len(links) == 0):\n",
    "            break\n",
    "        # Adicione os links da página na lista de links dos produtos\n",
    "        product_links.extend(links)\n",
    "        category_product_total += len(links)\n",
    "    print(f\"Produtos da categoria {category['name']} adicionados com sucesso (Total = {category_product_total})\")"
   ]
  },
  {
   "cell_type": "code",
   "execution_count": 257,
   "metadata": {},
   "outputs": [
    {
     "name": "stdout",
     "output_type": "stream",
     "text": [
      "Total de produtos: 8483\n"
     ]
    }
   ],
   "source": [
    "print(f\"Total de produtos: {len(product_links)}\")"
   ]
  },
  {
   "cell_type": "markdown",
   "metadata": {},
   "source": [
    "### Salvando links dos produtos em um arquivo"
   ]
  },
  {
   "cell_type": "code",
   "execution_count": 258,
   "metadata": {},
   "outputs": [],
   "source": [
    "arr = np.asarray(product_links)\n",
    "np.savetxt('links.csv', arr, fmt = '%s', delimiter=\"\\n\")  "
   ]
  },
  {
   "cell_type": "markdown",
   "metadata": {},
   "source": [
    "## 2. Extração dos dados dos produtos\n",
    "Obtendo link do arquivo links.csv"
   ]
  },
  {
   "cell_type": "markdown",
   "metadata": {},
   "source": [
    "## Funções de extração dos dados"
   ]
  },
  {
   "cell_type": "code",
   "execution_count": 3,
   "metadata": {},
   "outputs": [],
   "source": [
    "# Retorna o nome do produto\n",
    "def get_name(product):\n",
    "    name = None\n",
    "    if product is not None:\n",
    "        name_tag = product.select_one('.ui-pdp-title')\n",
    "        if name_tag is not None:\n",
    "            name = name_tag.text\n",
    "    return name"
   ]
  },
  {
   "cell_type": "code",
   "execution_count": 4,
   "metadata": {},
   "outputs": [],
   "source": [
    "# Retorna o preço do produto (como string)\n",
    "def get_price(product):\n",
    "    price = None\n",
    "    if product is not None: \n",
    "        price_tag = product.select_one('div.ui-pdp-price__second-line > .andes-money-amount.ui-pdp-price__part.andes-money-amount--cents-superscript.andes-money-amount--compact')\n",
    "        if price_tag is not None:\n",
    "            price_fraction = price_tag.select_one('.andes-money-amount__fraction')\n",
    "            price_cents = price_tag.select_one('.andes-money-amount__cents')\n",
    "            price = price_fraction.text\n",
    "            if price_cents is not None:\n",
    "                price += \",\" + price_cents.text\n",
    "    return price"
   ]
  },
  {
   "cell_type": "code",
   "execution_count": 5,
   "metadata": {},
   "outputs": [],
   "source": [
    "# Retorna a avaliação do produto (como string)\n",
    "def get_rating(product):\n",
    "    rating = None\n",
    "    if product is not None:\n",
    "        rating_tag = product.select('.ui-review-capability__rating__average')\n",
    "        if len(rating_tag) > 0:\n",
    "            rating = rating_tag[0].text\n",
    "    return rating"
   ]
  },
  {
   "cell_type": "code",
   "execution_count": 6,
   "metadata": {},
   "outputs": [],
   "source": [
    "# Retorna a quantidade de avaliações do produto (como string)\n",
    "def get_review_count(product):\n",
    "    count = None\n",
    "    if product is not None:\n",
    "        count_tag = product.select('.ui-pdp-review__amount')\n",
    "        if len(count_tag) > 0:\n",
    "            count = count_tag[0].text.replace(\"(\", \"\").replace(\")\", \"\")\n",
    "    return count"
   ]
  },
  {
   "cell_type": "code",
   "execution_count": 35,
   "metadata": {},
   "outputs": [],
   "source": [
    "# Retorna a categoria específica do produto (como string)\n",
    "def get_category(product):\n",
    "    category = None\n",
    "    if product is not None:\n",
    "        category_tags = product.select('.andes-breadcrumb__link')\n",
    "        if len(category_tags) > 0:\n",
    "            category = category_tags[-1].text\n",
    "    return category"
   ]
  },
  {
   "cell_type": "code",
   "execution_count": 8,
   "metadata": {},
   "outputs": [],
   "source": [
    "# Retorna o termômetro do vendedor deste produto\n",
    "def get_thermometer(product):\n",
    "    thermometer = None\n",
    "    if product is not None:\n",
    "        thermometer_tag = product.select_one('.ui-thermometer')\n",
    "        if thermometer_tag is not None:\n",
    "            thermometer = thermometer_tag['value']\n",
    "    return thermometer"
   ]
  },
  {
   "cell_type": "code",
   "execution_count": 9,
   "metadata": {},
   "outputs": [],
   "source": [
    "# Retorna o nome do vendedor\n",
    "def get_seller(product):\n",
    "    seller = None\n",
    "    if product is not None:\n",
    "        seller_tag = product.select_one('.ui-pdp-color--BLUE.ui-pdp-family--REGULAR')\n",
    "        if seller_tag is None:\n",
    "            seller_tag = product.select_one('.ui-pdp-seller__header__title')\n",
    "        if seller_tag is not None:\n",
    "            seller = seller_tag.text\n",
    "        if seller_tag is None:\n",
    "            seller_tag = product.select_one('.ui-pdp-media__action.ui-box-component__action')\n",
    "            if seller_tag is not None:\n",
    "               seller = seller_tag['href'].replace('https://perfil.mercadolivre.com.br/', '')\n",
    "    return seller"
   ]
  },
  {
   "cell_type": "code",
   "execution_count": 10,
   "metadata": {},
   "outputs": [],
   "source": [
    "# Requisição do produto\n",
    "def request_product(link, max_attempts = 1, only_if_full = False):\n",
    "    result = request_page(link)\n",
    "    i = 0\n",
    "    while result is not None and i < max_attempts:\n",
    "        i = i + 1\n",
    "        if get_rating(result) is not None and get_seller(result) is not None and get_thermometer(result) is not None:\n",
    "            return result\n",
    "    if only_if_full:\n",
    "        return None\n",
    "    return result\n",
    "    "
   ]
  },
  {
   "cell_type": "code",
   "execution_count": 11,
   "metadata": {},
   "outputs": [
    {
     "data": {
      "text/plain": [
       "'https://www.mercadolivre.com.br/samsung-galaxy-a04s-dual-sim-64-gb-green-4-gb-ram/p/MLB21078576?pdp_filters=category:MLB1055%7Cdeal:MLB779535-1&hide_psmb=true#searchVariation=MLB21078576&position=1&search_layout=grid&type=product&tracking_id=597ea181-8aab-4917-a647-7be6d74825a5&deal_print_id=4b469e91-caf9-4bf7-98c5-8df304187b5a&promotion_type=DEAL_OF_THE_DAY'"
      ]
     },
     "execution_count": 11,
     "metadata": {},
     "output_type": "execute_result"
    }
   ],
   "source": [
    "# Para teste\n",
    "link = 'https://www.mercadolivre.com.br/samsung-galaxy-a04s-dual-sim-64-gb-green-4-gb-ram/p/MLB21078576?pdp_filters=category:MLB1055%7Cdeal:MLB779535-1&hide_psmb=true#searchVariation=MLB21078576&position=1&search_layout=grid&type=product&tracking_id=597ea181-8aab-4917-a647-7be6d74825a5&deal_print_id=4b469e91-caf9-4bf7-98c5-8df304187b5a&promotion_type=DEAL_OF_THE_DAY'\n",
    "link"
   ]
  },
  {
   "cell_type": "code",
   "execution_count": 12,
   "metadata": {},
   "outputs": [],
   "source": [
    "# Obtendo a página\n",
    "product = request_product(link)"
   ]
  },
  {
   "cell_type": "code",
   "execution_count": 13,
   "metadata": {},
   "outputs": [
    {
     "name": "stdout",
     "output_type": "stream",
     "text": [
      "Samsung Galaxy A04s Dual SIM 64 GB green 4 GB RAM\n",
      "839\n",
      "Celulares e Smartphones\n",
      "4.8\n",
      "366\n",
      "5\n",
      "Mercado Livre\n"
     ]
    }
   ],
   "source": [
    "print(get_name(product))\n",
    "print(get_price(product))\n",
    "print(get_category(product))\n",
    "print(get_rating(product))\n",
    "print(get_review_count(product))\n",
    "print(get_thermometer(product))\n",
    "print(get_seller(product))"
   ]
  },
  {
   "cell_type": "markdown",
   "metadata": {},
   "source": [
    "## Extraindo dados de todos os produtos\n",
    "Vamos tentar extrair dados de todos os produtos e deixar o dataframe de links apenas com os produtos que falharam."
   ]
  },
  {
   "cell_type": "code",
   "execution_count": 24,
   "metadata": {},
   "outputs": [],
   "source": [
    "# Criando dataset\n",
    "df_products = pd.DataFrame([], columns=['Nome', 'Preço', 'Categoria', 'Avaliação', 'Número de avaliações', 'Termômetro', 'Vendedor'])\n",
    "links = []"
   ]
  },
  {
   "cell_type": "code",
   "execution_count": 26,
   "metadata": {},
   "outputs": [],
   "source": [
    "# Coloca todos os dados dos produtos no data frame\n",
    "# O parâmetro only_full força a retornar apenas os produtos que têm todos os campos\n",
    "# Isso não vale para produtos de link https://produto.mercadolivre.com.br\n",
    "def get_all_products(only_full, max_amount = 10, max_product_request = 1):\n",
    "    global df_products, links\n",
    "    failed_links = []\n",
    "    names = []\n",
    "    prices = []\n",
    "    categories = []\n",
    "    ratings = []\n",
    "    review_counts = []\n",
    "    thermometers = []\n",
    "    sellers = []\n",
    "    i = 0\n",
    "    failed_count = 0\n",
    "    for link in links:\n",
    "        if i >= max_amount or (only_full and link.startswith('https://produto.mercadolivre.com.br')):\n",
    "            failed_links.append(link)\n",
    "            continue\n",
    "        product = request_product(link, max_product_request, only_full)\n",
    "        if product is None:\n",
    "            failed_links.append(link) \n",
    "            failed_count += 1\n",
    "            continue\n",
    "        i = i + 1\n",
    "        names.append(get_name(product))\n",
    "        prices.append(get_price(product))\n",
    "        categories.append(get_category(product))\n",
    "        ratings.append(get_rating(product))\n",
    "        review_counts.append(get_review_count(product))\n",
    "        thermometers.append(get_thermometer(product))\n",
    "        sellers.append(get_seller(product))\n",
    "    \n",
    "    links = failed_links\n",
    "    df_added = pd.DataFrame({\n",
    "        'Nome': names,\n",
    "        'Preço': prices,\n",
    "        'Categoria': categories,\n",
    "        'Avaliação': ratings,\n",
    "        'Número de avaliações': review_counts,\n",
    "        'Termômetro': thermometers,\n",
    "        'Vendedor': sellers\n",
    "    })\n",
    "    df_products = pd.concat([df_products, df_added])\n",
    "    df_products = df_products.reset_index(drop=True)\n",
    "    print(f\"Quantidade atual de produtos: {len(df_products)}\")\n",
    "    print(f\"Restante: {len(failed_links)}\")\n",
    "    print(f\"Falharam: {failed_count}\")\n",
    "    save_dataset()\n",
    "    return df_products\n",
    "# Salvar dataset e lista de links restantes\n",
    "def save_dataset():\n",
    "    global df_products, links\n",
    "    df_products.to_csv(\"dataset.csv\", index=False)\n",
    "    np.savetxt('missing_links.csv', np.asarray(links), fmt = '%s', delimiter=\"\\n\") \n",
    "# Carregar dataset e lista de links restantes\n",
    "def load_dataset():\n",
    "    global df_products, links\n",
    "    df_products = pd.read_csv('dataset.csv')\n",
    "    file = open('missing_links.csv', 'r')\n",
    "    links = list(csv.reader(file, delimiter=\"\\n\"))\n",
    "    links = [row[0] for row in links]\n",
    "    file.close()\n",
    "    return df_products"
   ]
  },
  {
   "cell_type": "markdown",
   "metadata": {},
   "source": [
    "### Extraindo dados"
   ]
  },
  {
   "cell_type": "code",
   "execution_count": 36,
   "metadata": {},
   "outputs": [
    {
     "data": {
      "text/html": [
       "<div>\n",
       "<style scoped>\n",
       "    .dataframe tbody tr th:only-of-type {\n",
       "        vertical-align: middle;\n",
       "    }\n",
       "\n",
       "    .dataframe tbody tr th {\n",
       "        vertical-align: top;\n",
       "    }\n",
       "\n",
       "    .dataframe thead th {\n",
       "        text-align: right;\n",
       "    }\n",
       "</style>\n",
       "<table border=\"1\" class=\"dataframe\">\n",
       "  <thead>\n",
       "    <tr style=\"text-align: right;\">\n",
       "      <th></th>\n",
       "      <th>Nome</th>\n",
       "      <th>Preço</th>\n",
       "      <th>Categoria</th>\n",
       "      <th>Avaliação</th>\n",
       "      <th>Número de avaliações</th>\n",
       "      <th>Termômetro</th>\n",
       "      <th>Vendedor</th>\n",
       "    </tr>\n",
       "  </thead>\n",
       "  <tbody>\n",
       "    <tr>\n",
       "      <th>0</th>\n",
       "      <td>Smartphone Samsung Galaxy A14 5g 128gb 4gb Preto</td>\n",
       "      <td>1.099</td>\n",
       "      <td>Celulares e Smartphones</td>\n",
       "      <td>4.8</td>\n",
       "      <td>205.0</td>\n",
       "      <td>5.0</td>\n",
       "      <td>Mercado Livre</td>\n",
       "    </tr>\n",
       "    <tr>\n",
       "      <th>1</th>\n",
       "      <td>Moto E40 Dual SIM 64 GB grafite 4 GB RAM</td>\n",
       "      <td>769</td>\n",
       "      <td>Celulares e Smartphones</td>\n",
       "      <td>4.6</td>\n",
       "      <td>824.0</td>\n",
       "      <td>5.0</td>\n",
       "      <td>123 Comprou</td>\n",
       "    </tr>\n",
       "    <tr>\n",
       "      <th>2</th>\n",
       "      <td>Samsung Galaxy S20 FE 5G 5G Dual SIM 128 GB cl...</td>\n",
       "      <td>1.869</td>\n",
       "      <td>Celulares e Smartphones</td>\n",
       "      <td>4.8</td>\n",
       "      <td>2281.0</td>\n",
       "      <td>5.0</td>\n",
       "      <td>Mercado Livre</td>\n",
       "    </tr>\n",
       "    <tr>\n",
       "      <th>3</th>\n",
       "      <td>Apple iPhone 11 (128 GB) - Branco</td>\n",
       "      <td>3.988,10</td>\n",
       "      <td>Celulares e Smartphones</td>\n",
       "      <td>4.5</td>\n",
       "      <td>2573.0</td>\n",
       "      <td>5.0</td>\n",
       "      <td>NILTONDASILVALIPPERTJUNIOR</td>\n",
       "    </tr>\n",
       "    <tr>\n",
       "      <th>4</th>\n",
       "      <td>Xiaomi Redmi Note 11 (Snapdragon) Dual SIM 128...</td>\n",
       "      <td>1.229,30</td>\n",
       "      <td>Celulares e Smartphones</td>\n",
       "      <td>4.7</td>\n",
       "      <td>4057.0</td>\n",
       "      <td>5.0</td>\n",
       "      <td>JEFERSON ELETROSTORE</td>\n",
       "    </tr>\n",
       "    <tr>\n",
       "      <th>...</th>\n",
       "      <td>...</td>\n",
       "      <td>...</td>\n",
       "      <td>...</td>\n",
       "      <td>...</td>\n",
       "      <td>...</td>\n",
       "      <td>...</td>\n",
       "      <td>...</td>\n",
       "    </tr>\n",
       "    <tr>\n",
       "      <th>1999</th>\n",
       "      <td>Moto G 5g Plus Dual Sim 128 Gb Azul-oceano 8 ...</td>\n",
       "      <td>1.879,06</td>\n",
       "      <td>Celulares e Smartphones</td>\n",
       "      <td>NaN</td>\n",
       "      <td>NaN</td>\n",
       "      <td>5.0</td>\n",
       "      <td>SOAN5091695</td>\n",
       "    </tr>\n",
       "    <tr>\n",
       "      <th>2000</th>\n",
       "      <td>Smartphone Xiaomi Redmi Note 11s Dual Sim 128g...</td>\n",
       "      <td>1.614,99</td>\n",
       "      <td>Celulares e Smartphones</td>\n",
       "      <td>NaN</td>\n",
       "      <td>NaN</td>\n",
       "      <td>3.0</td>\n",
       "      <td>SPACE+LOJAWEB</td>\n",
       "    </tr>\n",
       "    <tr>\n",
       "      <th>2001</th>\n",
       "      <td>Celular Samsung Galaxy A03 Core 6,5'' 32gb Bar...</td>\n",
       "      <td>757</td>\n",
       "      <td>Celulares e Smartphones</td>\n",
       "      <td>NaN</td>\n",
       "      <td>NaN</td>\n",
       "      <td>5.0</td>\n",
       "      <td>SMARTSCAROL</td>\n",
       "    </tr>\n",
       "    <tr>\n",
       "      <th>2002</th>\n",
       "      <td>Vitrine Apple iPhone 12 64gb Original</td>\n",
       "      <td>3.159</td>\n",
       "      <td>Celulares e Smartphones</td>\n",
       "      <td>NaN</td>\n",
       "      <td>NaN</td>\n",
       "      <td>5.0</td>\n",
       "      <td>IPHONES+ZN</td>\n",
       "    </tr>\n",
       "    <tr>\n",
       "      <th>2003</th>\n",
       "      <td>iPhone 11 256gb Verde Usado (Recondicionado)</td>\n",
       "      <td>2.675,20</td>\n",
       "      <td>Celulares e Smartphones</td>\n",
       "      <td>NaN</td>\n",
       "      <td>NaN</td>\n",
       "      <td>5.0</td>\n",
       "      <td>Trocafy</td>\n",
       "    </tr>\n",
       "  </tbody>\n",
       "</table>\n",
       "<p>2004 rows × 7 columns</p>\n",
       "</div>"
      ],
      "text/plain": [
       "                                                   Nome     Preço   \n",
       "0      Smartphone Samsung Galaxy A14 5g 128gb 4gb Preto     1.099  \\\n",
       "1              Moto E40 Dual SIM 64 GB grafite 4 GB RAM       769   \n",
       "2     Samsung Galaxy S20 FE 5G 5G Dual SIM 128 GB cl...     1.869   \n",
       "3                     Apple iPhone 11 (128 GB) - Branco  3.988,10   \n",
       "4     Xiaomi Redmi Note 11 (Snapdragon) Dual SIM 128...  1.229,30   \n",
       "...                                                 ...       ...   \n",
       "1999   Moto G 5g Plus Dual Sim 128 Gb Azul-oceano 8 ...  1.879,06   \n",
       "2000  Smartphone Xiaomi Redmi Note 11s Dual Sim 128g...  1.614,99   \n",
       "2001  Celular Samsung Galaxy A03 Core 6,5'' 32gb Bar...       757   \n",
       "2002              Vitrine Apple iPhone 12 64gb Original     3.159   \n",
       "2003       iPhone 11 256gb Verde Usado (Recondicionado)  2.675,20   \n",
       "\n",
       "                    Categoria  Avaliação  Número de avaliações  Termômetro   \n",
       "0     Celulares e Smartphones        4.8                 205.0         5.0  \\\n",
       "1     Celulares e Smartphones        4.6                 824.0         5.0   \n",
       "2     Celulares e Smartphones        4.8                2281.0         5.0   \n",
       "3     Celulares e Smartphones        4.5                2573.0         5.0   \n",
       "4     Celulares e Smartphones        4.7                4057.0         5.0   \n",
       "...                       ...        ...                   ...         ...   \n",
       "1999  Celulares e Smartphones        NaN                   NaN         5.0   \n",
       "2000  Celulares e Smartphones        NaN                   NaN         3.0   \n",
       "2001  Celulares e Smartphones        NaN                   NaN         5.0   \n",
       "2002  Celulares e Smartphones        NaN                   NaN         5.0   \n",
       "2003  Celulares e Smartphones        NaN                   NaN         5.0   \n",
       "\n",
       "                        Vendedor  \n",
       "0                  Mercado Livre  \n",
       "1                    123 Comprou  \n",
       "2                  Mercado Livre  \n",
       "3     NILTONDASILVALIPPERTJUNIOR  \n",
       "4           JEFERSON ELETROSTORE  \n",
       "...                          ...  \n",
       "1999                 SOAN5091695  \n",
       "2000               SPACE+LOJAWEB  \n",
       "2001                 SMARTSCAROL  \n",
       "2002                  IPHONES+ZN  \n",
       "2003                     Trocafy  \n",
       "\n",
       "[2004 rows x 7 columns]"
      ]
     },
     "execution_count": 36,
     "metadata": {},
     "output_type": "execute_result"
    }
   ],
   "source": [
    "# Carregando dataset obtido até o momento\n",
    "load_dataset()"
   ]
  },
  {
   "cell_type": "code",
   "execution_count": 312,
   "metadata": {},
   "outputs": [
    {
     "name": "stdout",
     "output_type": "stream",
     "text": [
      "Quantidade atual de produtos: 1404\n",
      "Restante: 7079\n",
      "Falharam: 228\n"
     ]
    },
    {
     "data": {
      "text/html": [
       "<div>\n",
       "<style scoped>\n",
       "    .dataframe tbody tr th:only-of-type {\n",
       "        vertical-align: middle;\n",
       "    }\n",
       "\n",
       "    .dataframe tbody tr th {\n",
       "        vertical-align: top;\n",
       "    }\n",
       "\n",
       "    .dataframe thead th {\n",
       "        text-align: right;\n",
       "    }\n",
       "</style>\n",
       "<table border=\"1\" class=\"dataframe\">\n",
       "  <thead>\n",
       "    <tr style=\"text-align: right;\">\n",
       "      <th></th>\n",
       "      <th>Nome</th>\n",
       "      <th>Preço</th>\n",
       "      <th>Categoria</th>\n",
       "      <th>Avaliação</th>\n",
       "      <th>Número de avaliações</th>\n",
       "      <th>Termômetro</th>\n",
       "      <th>Vendedor</th>\n",
       "    </tr>\n",
       "  </thead>\n",
       "  <tbody>\n",
       "    <tr>\n",
       "      <th>0</th>\n",
       "      <td>Smartphone Samsung Galaxy A14 5g 128gb 4gb Preto</td>\n",
       "      <td>1.099</td>\n",
       "      <td>Celulares e Smartphones</td>\n",
       "      <td>4.8</td>\n",
       "      <td>205</td>\n",
       "      <td>5</td>\n",
       "      <td>Mercado Livre</td>\n",
       "    </tr>\n",
       "    <tr>\n",
       "      <th>1</th>\n",
       "      <td>Moto E40 Dual SIM 64 GB grafite 4 GB RAM</td>\n",
       "      <td>769</td>\n",
       "      <td>Celulares e Smartphones</td>\n",
       "      <td>4.6</td>\n",
       "      <td>824</td>\n",
       "      <td>5</td>\n",
       "      <td>123 Comprou</td>\n",
       "    </tr>\n",
       "    <tr>\n",
       "      <th>2</th>\n",
       "      <td>Samsung Galaxy S20 FE 5G 5G Dual SIM 128 GB cl...</td>\n",
       "      <td>1.869</td>\n",
       "      <td>Celulares e Smartphones</td>\n",
       "      <td>4.8</td>\n",
       "      <td>2281</td>\n",
       "      <td>5</td>\n",
       "      <td>Mercado Livre</td>\n",
       "    </tr>\n",
       "    <tr>\n",
       "      <th>3</th>\n",
       "      <td>Apple iPhone 11 (128 GB) - Branco</td>\n",
       "      <td>3.988,10</td>\n",
       "      <td>Celulares e Smartphones</td>\n",
       "      <td>4.5</td>\n",
       "      <td>2573</td>\n",
       "      <td>5</td>\n",
       "      <td>NILTONDASILVALIPPERTJUNIOR</td>\n",
       "    </tr>\n",
       "    <tr>\n",
       "      <th>4</th>\n",
       "      <td>Xiaomi Redmi Note 11 (Snapdragon) Dual SIM 128...</td>\n",
       "      <td>1.229,30</td>\n",
       "      <td>Celulares e Smartphones</td>\n",
       "      <td>4.7</td>\n",
       "      <td>4057</td>\n",
       "      <td>5</td>\n",
       "      <td>JEFERSON ELETROSTORE</td>\n",
       "    </tr>\n",
       "    <tr>\n",
       "      <th>...</th>\n",
       "      <td>...</td>\n",
       "      <td>...</td>\n",
       "      <td>...</td>\n",
       "      <td>...</td>\n",
       "      <td>...</td>\n",
       "      <td>...</td>\n",
       "      <td>...</td>\n",
       "    </tr>\n",
       "    <tr>\n",
       "      <th>1399</th>\n",
       "      <td>Truss Professional Hair Protector creme capila...</td>\n",
       "      <td>70,13</td>\n",
       "      <td>Tratamentos com o Cabelo</td>\n",
       "      <td>4.7</td>\n",
       "      <td>62</td>\n",
       "      <td>5</td>\n",
       "      <td>MAGAZINE BRASILPREMIUM</td>\n",
       "    </tr>\n",
       "    <tr>\n",
       "      <th>1400</th>\n",
       "      <td>Dewar's Blended The Ancestor 12 Reino Unido 75...</td>\n",
       "      <td>99,90</td>\n",
       "      <td>Whiskys</td>\n",
       "      <td>4.9</td>\n",
       "      <td>40</td>\n",
       "      <td>5</td>\n",
       "      <td>Mercado Livre</td>\n",
       "    </tr>\n",
       "    <tr>\n",
       "      <th>1401</th>\n",
       "      <td>Espumante Brasileiro Branco Brut Réserve Chand...</td>\n",
       "      <td>59,33</td>\n",
       "      <td>Espumantes e Champagne</td>\n",
       "      <td>5.0</td>\n",
       "      <td>3</td>\n",
       "      <td>5</td>\n",
       "      <td>Empório Solera</td>\n",
       "    </tr>\n",
       "    <tr>\n",
       "      <th>1402</th>\n",
       "      <td>Caviar Silver 100ml</td>\n",
       "      <td>62,90</td>\n",
       "      <td>Perfumes</td>\n",
       "      <td>3.4</td>\n",
       "      <td>5</td>\n",
       "      <td>5</td>\n",
       "      <td>Vanvic</td>\n",
       "    </tr>\n",
       "    <tr>\n",
       "      <th>1403</th>\n",
       "      <td>Antonio Banderas Blue Seduction EDT 200ml</td>\n",
       "      <td>169,76</td>\n",
       "      <td>Perfumes</td>\n",
       "      <td>4.3</td>\n",
       "      <td>145</td>\n",
       "      <td>5</td>\n",
       "      <td>Bagatelle Perfumaria</td>\n",
       "    </tr>\n",
       "  </tbody>\n",
       "</table>\n",
       "<p>1404 rows × 7 columns</p>\n",
       "</div>"
      ],
      "text/plain": [
       "                                                   Nome     Preço   \n",
       "0      Smartphone Samsung Galaxy A14 5g 128gb 4gb Preto     1.099  \\\n",
       "1              Moto E40 Dual SIM 64 GB grafite 4 GB RAM       769   \n",
       "2     Samsung Galaxy S20 FE 5G 5G Dual SIM 128 GB cl...     1.869   \n",
       "3                     Apple iPhone 11 (128 GB) - Branco  3.988,10   \n",
       "4     Xiaomi Redmi Note 11 (Snapdragon) Dual SIM 128...  1.229,30   \n",
       "...                                                 ...       ...   \n",
       "1399  Truss Professional Hair Protector creme capila...     70,13   \n",
       "1400  Dewar's Blended The Ancestor 12 Reino Unido 75...     99,90   \n",
       "1401  Espumante Brasileiro Branco Brut Réserve Chand...     59,33   \n",
       "1402                                Caviar Silver 100ml     62,90   \n",
       "1403          Antonio Banderas Blue Seduction EDT 200ml    169,76   \n",
       "\n",
       "                     Categoria Avaliação Número de avaliações Termômetro   \n",
       "0      Celulares e Smartphones       4.8                  205          5  \\\n",
       "1      Celulares e Smartphones       4.6                  824          5   \n",
       "2      Celulares e Smartphones       4.8                 2281          5   \n",
       "3      Celulares e Smartphones       4.5                 2573          5   \n",
       "4      Celulares e Smartphones       4.7                 4057          5   \n",
       "...                        ...       ...                  ...        ...   \n",
       "1399  Tratamentos com o Cabelo       4.7                   62          5   \n",
       "1400                   Whiskys       4.9                   40          5   \n",
       "1401    Espumantes e Champagne       5.0                    3          5   \n",
       "1402                  Perfumes       3.4                    5          5   \n",
       "1403                  Perfumes       4.3                  145          5   \n",
       "\n",
       "                        Vendedor  \n",
       "0                  Mercado Livre  \n",
       "1                    123 Comprou  \n",
       "2                  Mercado Livre  \n",
       "3     NILTONDASILVALIPPERTJUNIOR  \n",
       "4           JEFERSON ELETROSTORE  \n",
       "...                          ...  \n",
       "1399      MAGAZINE BRASILPREMIUM  \n",
       "1400               Mercado Livre  \n",
       "1401              Empório Solera  \n",
       "1402                      Vanvic  \n",
       "1403        Bagatelle Perfumaria  \n",
       "\n",
       "[1404 rows x 7 columns]"
      ]
     },
     "execution_count": 312,
     "metadata": {},
     "output_type": "execute_result"
    }
   ],
   "source": [
    "# Esta célula deve ser executada várias vezes até a quantidade dos que falharam ser insignificante\n",
    "# Adiciona apenas os produtos que têm todos os campos preenchidos\n",
    "get_all_products(only_full=True, max_amount=1, max_product_request=1)"
   ]
  },
  {
   "cell_type": "code",
   "execution_count": 43,
   "metadata": {},
   "outputs": [
    {
     "name": "stdout",
     "output_type": "stream",
     "text": [
      "Quantidade atual de produtos: 3504\n",
      "Restante: 4979\n",
      "Falharam: 1\n"
     ]
    },
    {
     "data": {
      "text/html": [
       "<div>\n",
       "<style scoped>\n",
       "    .dataframe tbody tr th:only-of-type {\n",
       "        vertical-align: middle;\n",
       "    }\n",
       "\n",
       "    .dataframe tbody tr th {\n",
       "        vertical-align: top;\n",
       "    }\n",
       "\n",
       "    .dataframe thead th {\n",
       "        text-align: right;\n",
       "    }\n",
       "</style>\n",
       "<table border=\"1\" class=\"dataframe\">\n",
       "  <thead>\n",
       "    <tr style=\"text-align: right;\">\n",
       "      <th></th>\n",
       "      <th>Nome</th>\n",
       "      <th>Preço</th>\n",
       "      <th>Categoria</th>\n",
       "      <th>Avaliação</th>\n",
       "      <th>Número de avaliações</th>\n",
       "      <th>Termômetro</th>\n",
       "      <th>Vendedor</th>\n",
       "    </tr>\n",
       "  </thead>\n",
       "  <tbody>\n",
       "    <tr>\n",
       "      <th>0</th>\n",
       "      <td>Smartphone Samsung Galaxy A14 5g 128gb 4gb Preto</td>\n",
       "      <td>1.099</td>\n",
       "      <td>Celulares e Smartphones</td>\n",
       "      <td>4.8</td>\n",
       "      <td>205.0</td>\n",
       "      <td>5.0</td>\n",
       "      <td>Mercado Livre</td>\n",
       "    </tr>\n",
       "    <tr>\n",
       "      <th>1</th>\n",
       "      <td>Moto E40 Dual SIM 64 GB grafite 4 GB RAM</td>\n",
       "      <td>769</td>\n",
       "      <td>Celulares e Smartphones</td>\n",
       "      <td>4.6</td>\n",
       "      <td>824.0</td>\n",
       "      <td>5.0</td>\n",
       "      <td>123 Comprou</td>\n",
       "    </tr>\n",
       "    <tr>\n",
       "      <th>2</th>\n",
       "      <td>Samsung Galaxy S20 FE 5G 5G Dual SIM 128 GB cl...</td>\n",
       "      <td>1.869</td>\n",
       "      <td>Celulares e Smartphones</td>\n",
       "      <td>4.8</td>\n",
       "      <td>2281.0</td>\n",
       "      <td>5.0</td>\n",
       "      <td>Mercado Livre</td>\n",
       "    </tr>\n",
       "    <tr>\n",
       "      <th>3</th>\n",
       "      <td>Apple iPhone 11 (128 GB) - Branco</td>\n",
       "      <td>3.988,10</td>\n",
       "      <td>Celulares e Smartphones</td>\n",
       "      <td>4.5</td>\n",
       "      <td>2573.0</td>\n",
       "      <td>5.0</td>\n",
       "      <td>NILTONDASILVALIPPERTJUNIOR</td>\n",
       "    </tr>\n",
       "    <tr>\n",
       "      <th>4</th>\n",
       "      <td>Xiaomi Redmi Note 11 (Snapdragon) Dual SIM 128...</td>\n",
       "      <td>1.229,30</td>\n",
       "      <td>Celulares e Smartphones</td>\n",
       "      <td>4.7</td>\n",
       "      <td>4057.0</td>\n",
       "      <td>5.0</td>\n",
       "      <td>JEFERSON ELETROSTORE</td>\n",
       "    </tr>\n",
       "    <tr>\n",
       "      <th>...</th>\n",
       "      <td>...</td>\n",
       "      <td>...</td>\n",
       "      <td>...</td>\n",
       "      <td>...</td>\n",
       "      <td>...</td>\n",
       "      <td>...</td>\n",
       "      <td>...</td>\n",
       "    </tr>\n",
       "    <tr>\n",
       "      <th>3499</th>\n",
       "      <td>Fone De Ouvido Via Bluetooth Tws E10 A Prova D...</td>\n",
       "      <td>99,05</td>\n",
       "      <td>Fones e Kits Viva Voz</td>\n",
       "      <td>4.5</td>\n",
       "      <td>383</td>\n",
       "      <td>5</td>\n",
       "      <td>CLASSEAELETRONICOS</td>\n",
       "    </tr>\n",
       "    <tr>\n",
       "      <th>3500</th>\n",
       "      <td>Headset Gamer Corsair Virtuoso Rgb Wireless Se...</td>\n",
       "      <td>899,94</td>\n",
       "      <td>Fones</td>\n",
       "      <td>4.8</td>\n",
       "      <td>110</td>\n",
       "      <td>5</td>\n",
       "      <td>Corsair</td>\n",
       "    </tr>\n",
       "    <tr>\n",
       "      <th>3501</th>\n",
       "      <td>Fone De Ouvido Bluetooth 5.0 Par Sem Fio Duplo...</td>\n",
       "      <td>35,05</td>\n",
       "      <td>Fones e Kits Viva Voz</td>\n",
       "      <td>4.3</td>\n",
       "      <td>92</td>\n",
       "      <td>5</td>\n",
       "      <td>MONTALVAN+FLOW</td>\n",
       "    </tr>\n",
       "    <tr>\n",
       "      <th>3502</th>\n",
       "      <td>Fone De Ouvido Sem Fio Samsung Galaxy Buds2 Preto</td>\n",
       "      <td>389</td>\n",
       "      <td>Fones</td>\n",
       "      <td>5.0</td>\n",
       "      <td>2</td>\n",
       "      <td>5</td>\n",
       "      <td>INPOWER</td>\n",
       "    </tr>\n",
       "    <tr>\n",
       "      <th>3503</th>\n",
       "      <td>Fone De Ouvido Sem Fio Reflect Aero Tws Blueto...</td>\n",
       "      <td>689</td>\n",
       "      <td>Fones de Ouvido</td>\n",
       "      <td>None</td>\n",
       "      <td>None</td>\n",
       "      <td>5</td>\n",
       "      <td>Mercado Livre</td>\n",
       "    </tr>\n",
       "  </tbody>\n",
       "</table>\n",
       "<p>3504 rows × 7 columns</p>\n",
       "</div>"
      ],
      "text/plain": [
       "                                                   Nome     Preço   \n",
       "0      Smartphone Samsung Galaxy A14 5g 128gb 4gb Preto     1.099  \\\n",
       "1              Moto E40 Dual SIM 64 GB grafite 4 GB RAM       769   \n",
       "2     Samsung Galaxy S20 FE 5G 5G Dual SIM 128 GB cl...     1.869   \n",
       "3                     Apple iPhone 11 (128 GB) - Branco  3.988,10   \n",
       "4     Xiaomi Redmi Note 11 (Snapdragon) Dual SIM 128...  1.229,30   \n",
       "...                                                 ...       ...   \n",
       "3499  Fone De Ouvido Via Bluetooth Tws E10 A Prova D...     99,05   \n",
       "3500  Headset Gamer Corsair Virtuoso Rgb Wireless Se...    899,94   \n",
       "3501  Fone De Ouvido Bluetooth 5.0 Par Sem Fio Duplo...     35,05   \n",
       "3502  Fone De Ouvido Sem Fio Samsung Galaxy Buds2 Preto       389   \n",
       "3503  Fone De Ouvido Sem Fio Reflect Aero Tws Blueto...       689   \n",
       "\n",
       "                    Categoria Avaliação Número de avaliações Termômetro   \n",
       "0     Celulares e Smartphones       4.8                205.0        5.0  \\\n",
       "1     Celulares e Smartphones       4.6                824.0        5.0   \n",
       "2     Celulares e Smartphones       4.8               2281.0        5.0   \n",
       "3     Celulares e Smartphones       4.5               2573.0        5.0   \n",
       "4     Celulares e Smartphones       4.7               4057.0        5.0   \n",
       "...                       ...       ...                  ...        ...   \n",
       "3499    Fones e Kits Viva Voz       4.5                  383          5   \n",
       "3500                    Fones       4.8                  110          5   \n",
       "3501    Fones e Kits Viva Voz       4.3                   92          5   \n",
       "3502                    Fones       5.0                    2          5   \n",
       "3503          Fones de Ouvido      None                 None          5   \n",
       "\n",
       "                        Vendedor  \n",
       "0                  Mercado Livre  \n",
       "1                    123 Comprou  \n",
       "2                  Mercado Livre  \n",
       "3     NILTONDASILVALIPPERTJUNIOR  \n",
       "4           JEFERSON ELETROSTORE  \n",
       "...                          ...  \n",
       "3499          CLASSEAELETRONICOS  \n",
       "3500                     Corsair  \n",
       "3501              MONTALVAN+FLOW  \n",
       "3502                     INPOWER  \n",
       "3503               Mercado Livre  \n",
       "\n",
       "[3504 rows x 7 columns]"
      ]
     },
     "execution_count": 43,
     "metadata": {},
     "output_type": "execute_result"
    }
   ],
   "source": [
    "# Adiciona todos os produtos, incluindo os que não têm todos os campos preenchidos\n",
    "get_all_products(only_full=False, max_amount=500)"
   ]
  },
  {
   "cell_type": "code",
   "execution_count": 44,
   "metadata": {},
   "outputs": [
    {
     "data": {
      "text/plain": [
       "4979"
      ]
     },
     "execution_count": 44,
     "metadata": {},
     "output_type": "execute_result"
    }
   ],
   "source": [
    "len(links)"
   ]
  }
 ],
 "metadata": {
  "kernelspec": {
   "display_name": "Python 3.11.0 64-bit",
   "language": "python",
   "name": "python3"
  },
  "language_info": {
   "codemirror_mode": {
    "name": "ipython",
    "version": 3
   },
   "file_extension": ".py",
   "mimetype": "text/x-python",
   "name": "python",
   "nbconvert_exporter": "python",
   "pygments_lexer": "ipython3",
   "version": "3.11.0"
  },
  "orig_nbformat": 4,
  "vscode": {
   "interpreter": {
    "hash": "c261aea317cc0286b3b3261fbba9abdec21eaa57589985bb7a274bf54d6cc0a7"
   }
  }
 },
 "nbformat": 4,
 "nbformat_minor": 2
}
