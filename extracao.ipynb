{
 "cells": [
  {
   "cell_type": "markdown",
   "metadata": {},
   "source": [
    "# Extração do Mercado Livre"
   ]
  },
  {
   "cell_type": "markdown",
   "metadata": {},
   "source": [
    "## 1. Obtenção dos links dos produtos\n",
    "Primeiramente, vamos extrair os links de todos os produtos."
   ]
  },
  {
   "cell_type": "markdown",
   "metadata": {},
   "source": [
    "### Instalação de bibliotecas"
   ]
  },
  {
   "cell_type": "code",
   "execution_count": 11,
   "metadata": {},
   "outputs": [
    {
     "name": "stdout",
     "output_type": "stream",
     "text": [
      "Requirement already satisfied: beautifulsoup4 in c:\\python311\\lib\\site-packages (4.12.2)\n",
      "Requirement already satisfied: soupsieve>1.2 in c:\\python311\\lib\\site-packages (from beautifulsoup4) (2.4.1)\n",
      "Note: you may need to restart the kernel to use updated packages.\n"
     ]
    },
    {
     "name": "stderr",
     "output_type": "stream",
     "text": [
      "\n",
      "[notice] A new release of pip available: 22.3 -> 23.1.2\n",
      "[notice] To update, run: python.exe -m pip install --upgrade pip\n"
     ]
    },
    {
     "name": "stdout",
     "output_type": "stream",
     "text": [
      "Requirement already satisfied: requests in c:\\python311\\lib\\site-packages (2.30.0)\n",
      "Requirement already satisfied: charset-normalizer<4,>=2 in c:\\python311\\lib\\site-packages (from requests) (3.1.0)\n",
      "Requirement already satisfied: idna<4,>=2.5 in c:\\python311\\lib\\site-packages (from requests) (3.4)\n",
      "Requirement already satisfied: urllib3<3,>=1.21.1 in c:\\python311\\lib\\site-packages (from requests) (2.0.2)\n",
      "Requirement already satisfied: certifi>=2017.4.17 in c:\\python311\\lib\\site-packages (from requests) (2023.5.7)\n",
      "Note: you may need to restart the kernel to use updated packages.\n"
     ]
    },
    {
     "name": "stderr",
     "output_type": "stream",
     "text": [
      "\n",
      "[notice] A new release of pip available: 22.3 -> 23.1.2\n",
      "[notice] To update, run: python.exe -m pip install --upgrade pip\n"
     ]
    },
    {
     "name": "stdout",
     "output_type": "stream",
     "text": [
      "Requirement already satisfied: pandas in c:\\python311\\lib\\site-packages (2.0.1)\n",
      "Requirement already satisfied: python-dateutil>=2.8.2 in c:\\users\\guilherme\\appdata\\roaming\\python\\python311\\site-packages (from pandas) (2.8.2)\n",
      "Requirement already satisfied: pytz>=2020.1 in c:\\python311\\lib\\site-packages (from pandas) (2023.3)\n",
      "Requirement already satisfied: tzdata>=2022.1 in c:\\python311\\lib\\site-packages (from pandas) (2023.3)\n",
      "Requirement already satisfied: numpy>=1.21.0 in c:\\python311\\lib\\site-packages (from pandas) (1.24.3)\n",
      "Requirement already satisfied: six>=1.5 in c:\\users\\guilherme\\appdata\\roaming\\python\\python311\\site-packages (from python-dateutil>=2.8.2->pandas) (1.16.0)\n",
      "Note: you may need to restart the kernel to use updated packages.\n"
     ]
    },
    {
     "name": "stderr",
     "output_type": "stream",
     "text": [
      "\n",
      "[notice] A new release of pip available: 22.3 -> 23.1.2\n",
      "[notice] To update, run: python.exe -m pip install --upgrade pip\n"
     ]
    },
    {
     "name": "stdout",
     "output_type": "stream",
     "text": [
      "Requirement already satisfied: numpy in c:\\python311\\lib\\site-packages (1.24.3)\n",
      "Note: you may need to restart the kernel to use updated packages.\n"
     ]
    },
    {
     "name": "stderr",
     "output_type": "stream",
     "text": [
      "\n",
      "[notice] A new release of pip available: 22.3 -> 23.1.2\n",
      "[notice] To update, run: python.exe -m pip install --upgrade pip\n"
     ]
    }
   ],
   "source": [
    "%pip install beautifulsoup4\n",
    "%pip install requests\n",
    "%pip install pandas\n",
    "%pip install numpy\n"
   ]
  },
  {
   "cell_type": "markdown",
   "metadata": {},
   "source": [
    "### Importando bibliotecas"
   ]
  },
  {
   "cell_type": "code",
   "execution_count": 12,
   "metadata": {},
   "outputs": [],
   "source": [
    "from bs4 import BeautifulSoup\n",
    "import requests\n",
    "import pandas as pd\n",
    "import numpy as np\n",
    "import time"
   ]
  },
  {
   "cell_type": "markdown",
   "metadata": {},
   "source": [
    "### Lista de categorias\n",
    "Cada categoria tem um nome e um link, o qual será usado para obter links dos produtos em cada página."
   ]
  },
  {
   "cell_type": "code",
   "execution_count": 13,
   "metadata": {},
   "outputs": [],
   "source": [
    "category_list = [\n",
    "    {\n",
    "        'name': 'Celulares',\n",
    "        'link': 'https://www.mercadolivre.com.br/ofertas?container_id=MLB779535-1&domain_id=MLB-CELLPHONES&page='\n",
    "    }, \n",
    "    {\n",
    "        'name': 'Notebooks',\n",
    "        'link': 'https://www.mercadolivre.com.br/ofertas?container_id=MLB779536-1&domain_id=MLB-NOTEBOOKS&page='\n",
    "    },\n",
    "    {\n",
    "        'name': 'Tênis',\n",
    "        'link': 'https://www.mercadolivre.com.br/ofertas?container_id=MLB779537-1&domain_id=MLB-SNEAKERS&page='\n",
    "    },\n",
    "    {\n",
    "        'name': 'Fones',\n",
    "        'link': 'https://www.mercadolivre.com.br/ofertas?container_id=MLB779538-1&domain_id=MLB-HEADPHONES&page='\n",
    "    },\n",
    "    {\n",
    "        'name': 'TVs',\n",
    "        'link': 'https://www.mercadolivre.com.br/ofertas?container_id=MLB779539-1&domain_id=MLB-TELEVISIONS&page='\n",
    "    },\n",
    "    {\n",
    "        'name': 'Ferramentas',\n",
    "        'link': 'https://www.mercadolivre.com.br/ofertas?container_id=MLB779540-1&domain_id=MLB-WELDING_MACHINES&page='\n",
    "    },\n",
    "    {\n",
    "        'name': 'Smartwatches',\n",
    "        'link': 'https://www.mercadolivre.com.br/ofertas?container_id=MLB779541-1&domain_id=MLB-SMARTWATCHES&page='\n",
    "    },\n",
    "    {\n",
    "        'name': 'Caixas de som',\n",
    "        'link': 'https://www.mercadolivre.com.br/ofertas?container_id=MLB779542-1&domain_id=MLB-SPEAKERS&page='\n",
    "    },\n",
    "    {\n",
    "        'name': 'Perfumes',\n",
    "        'link': 'https://www.mercadolivre.com.br/ofertas?container_id=MLB779543-1&domain_id=MLB-PERFUMES&page='\n",
    "    },\n",
    "    {\n",
    "        'name': 'Bebês',\n",
    "        'link': 'https://www.mercadolivre.com.br/ofertas?container_id=MLB773331-2&deal_ids=MLB773331-2&page='\n",
    "    }\n",
    "]"
   ]
  },
  {
   "cell_type": "markdown",
   "metadata": {},
   "source": [
    "### Funções para requisição de páginas e extração de links"
   ]
  },
  {
   "cell_type": "code",
   "execution_count": 23,
   "metadata": {},
   "outputs": [],
   "source": [
    "def request_page(url):\n",
    "    success = False\n",
    "    page = None\n",
    "    while not success:\n",
    "        try:\n",
    "            response = requests.get(url, allow_redirects=False)\n",
    "            if response.is_redirect:\n",
    "                # Ignorando este url por ter redirecionado\n",
    "                break\n",
    "            page = BeautifulSoup(response.text)\n",
    "            success = True\n",
    "        except requests.exceptions.RequestException as e:\n",
    "            print(f\"Erro na requisição de {url}\")\n",
    "            time.sleep(60)\n",
    "    return page\n",
    "\n",
    "def get_links_from_page(page):\n",
    "    links = []\n",
    "    if page != None: \n",
    "        link_tags = page.find_all('a',  class_ = 'promotion-item__link-container')\n",
    "        for tag in link_tags:\n",
    "            links.append(tag['href'])\n",
    "    return links\n",
    "\n",
    "\n",
    "    "
   ]
  },
  {
   "cell_type": "markdown",
   "metadata": {},
   "source": [
    "### Obtendo links dos produtos de todas as categorias"
   ]
  },
  {
   "cell_type": "code",
   "execution_count": 24,
   "metadata": {},
   "outputs": [
    {
     "name": "stdout",
     "output_type": "stream",
     "text": [
      "Produtos da categoria Celulares adicionados com sucesso (Total = 960)\n",
      "Produtos da categoria Notebooks adicionados com sucesso (Total = 738)\n",
      "Produtos da categoria Tênis adicionados com sucesso (Total = 960)\n",
      "Produtos da categoria Fones adicionados com sucesso (Total = 960)\n",
      "Produtos da categoria TVs adicionados com sucesso (Total = 267)\n",
      "Produtos da categoria Ferramentas adicionados com sucesso (Total = 720)\n",
      "Produtos da categoria Smartwatches adicionados com sucesso (Total = 864)\n",
      "Produtos da categoria Caixas de som adicionados com sucesso (Total = 960)\n",
      "Produtos da categoria Perfumes adicionados com sucesso (Total = 960)\n",
      "Produtos da categoria Bebês adicionados com sucesso (Total = 960)\n"
     ]
    }
   ],
   "source": [
    "product_links = []\n",
    "# Para cada categoria\n",
    "for category in category_list:\n",
    "    # Gere uma lista de páginas de 1 até 20\n",
    "    page_list = [f\"{category['link']}{i+1}\" for i in range(20)]\n",
    "    category_product_total = 0\n",
    "    # Para cada página desta categoria\n",
    "    for page in page_list:\n",
    "        page_doc = request_page(page)\n",
    "        links = get_links_from_page(page_doc)\n",
    "        # Já passou da última página? Pare esta categoria\n",
    "        if (len(links) == 0):\n",
    "            break\n",
    "        # Adicione os links da página na lista de links dos produtos\n",
    "        product_links.extend(links)\n",
    "        category_product_total += len(links)\n",
    "    print(f\"Produtos da categoria {category['name']} adicionados com sucesso (Total = {category_product_total})\")"
   ]
  },
  {
   "cell_type": "code",
   "execution_count": 26,
   "metadata": {},
   "outputs": [
    {
     "name": "stdout",
     "output_type": "stream",
     "text": [
      "Total de produtos: 8349\n"
     ]
    }
   ],
   "source": [
    "print(f\"Total de produtos: {len(product_links)}\")"
   ]
  },
  {
   "cell_type": "markdown",
   "metadata": {},
   "source": [
    "### Salvando links dos produtos em um arquivo"
   ]
  },
  {
   "cell_type": "code",
   "execution_count": 25,
   "metadata": {},
   "outputs": [],
   "source": [
    "arr = np.asarray(product_links)\n",
    "np.savetxt('links.csv', arr, fmt = '%s', delimiter=\"\\n\")  "
   ]
  }
 ],
 "metadata": {
  "kernelspec": {
   "display_name": "Python 3.11.0 64-bit",
   "language": "python",
   "name": "python3"
  },
  "language_info": {
   "codemirror_mode": {
    "name": "ipython",
    "version": 3
   },
   "file_extension": ".py",
   "mimetype": "text/x-python",
   "name": "python",
   "nbconvert_exporter": "python",
   "pygments_lexer": "ipython3",
   "version": "3.11.0"
  },
  "orig_nbformat": 4,
  "vscode": {
   "interpreter": {
    "hash": "c261aea317cc0286b3b3261fbba9abdec21eaa57589985bb7a274bf54d6cc0a7"
   }
  }
 },
 "nbformat": 4,
 "nbformat_minor": 2
}
