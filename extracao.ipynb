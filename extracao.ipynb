{
 "cells": [
  {
   "cell_type": "markdown",
   "metadata": {},
   "source": [
    "# Extração do Mercado Livre"
   ]
  },
  {
   "cell_type": "markdown",
   "metadata": {},
   "source": [
    "## 1. Obtenção dos links dos produtos\n",
    "Primeiramente, vamos extrair os links de todos os produtos."
   ]
  },
  {
   "cell_type": "markdown",
   "metadata": {},
   "source": [
    "### Instalação de bibliotecas"
   ]
  },
  {
   "cell_type": "code",
   "execution_count": 11,
   "metadata": {},
   "outputs": [
    {
     "name": "stdout",
     "output_type": "stream",
     "text": [
      "Requirement already satisfied: beautifulsoup4 in c:\\python311\\lib\\site-packages (4.12.2)\n",
      "Requirement already satisfied: soupsieve>1.2 in c:\\python311\\lib\\site-packages (from beautifulsoup4) (2.4.1)\n",
      "Note: you may need to restart the kernel to use updated packages.\n"
     ]
    },
    {
     "name": "stderr",
     "output_type": "stream",
     "text": [
      "\n",
      "[notice] A new release of pip available: 22.3 -> 23.1.2\n",
      "[notice] To update, run: python.exe -m pip install --upgrade pip\n"
     ]
    },
    {
     "name": "stdout",
     "output_type": "stream",
     "text": [
      "Requirement already satisfied: requests in c:\\python311\\lib\\site-packages (2.30.0)\n",
      "Requirement already satisfied: charset-normalizer<4,>=2 in c:\\python311\\lib\\site-packages (from requests) (3.1.0)\n",
      "Requirement already satisfied: idna<4,>=2.5 in c:\\python311\\lib\\site-packages (from requests) (3.4)\n",
      "Requirement already satisfied: urllib3<3,>=1.21.1 in c:\\python311\\lib\\site-packages (from requests) (2.0.2)\n",
      "Requirement already satisfied: certifi>=2017.4.17 in c:\\python311\\lib\\site-packages (from requests) (2023.5.7)\n",
      "Note: you may need to restart the kernel to use updated packages.\n"
     ]
    },
    {
     "name": "stderr",
     "output_type": "stream",
     "text": [
      "\n",
      "[notice] A new release of pip available: 22.3 -> 23.1.2\n",
      "[notice] To update, run: python.exe -m pip install --upgrade pip\n"
     ]
    },
    {
     "name": "stdout",
     "output_type": "stream",
     "text": [
      "Requirement already satisfied: pandas in c:\\python311\\lib\\site-packages (2.0.1)\n",
      "Requirement already satisfied: python-dateutil>=2.8.2 in c:\\users\\guilherme\\appdata\\roaming\\python\\python311\\site-packages (from pandas) (2.8.2)\n",
      "Requirement already satisfied: pytz>=2020.1 in c:\\python311\\lib\\site-packages (from pandas) (2023.3)\n",
      "Requirement already satisfied: tzdata>=2022.1 in c:\\python311\\lib\\site-packages (from pandas) (2023.3)\n",
      "Requirement already satisfied: numpy>=1.21.0 in c:\\python311\\lib\\site-packages (from pandas) (1.24.3)\n",
      "Requirement already satisfied: six>=1.5 in c:\\users\\guilherme\\appdata\\roaming\\python\\python311\\site-packages (from python-dateutil>=2.8.2->pandas) (1.16.0)\n",
      "Note: you may need to restart the kernel to use updated packages.\n"
     ]
    },
    {
     "name": "stderr",
     "output_type": "stream",
     "text": [
      "\n",
      "[notice] A new release of pip available: 22.3 -> 23.1.2\n",
      "[notice] To update, run: python.exe -m pip install --upgrade pip\n"
     ]
    },
    {
     "name": "stdout",
     "output_type": "stream",
     "text": [
      "Requirement already satisfied: numpy in c:\\python311\\lib\\site-packages (1.24.3)\n",
      "Note: you may need to restart the kernel to use updated packages.\n"
     ]
    },
    {
     "name": "stderr",
     "output_type": "stream",
     "text": [
      "\n",
      "[notice] A new release of pip available: 22.3 -> 23.1.2\n",
      "[notice] To update, run: python.exe -m pip install --upgrade pip\n"
     ]
    }
   ],
   "source": [
    "%pip install beautifulsoup4\n",
    "%pip install requests\n",
    "%pip install pandas\n",
    "%pip install numpy\n"
   ]
  },
  {
   "cell_type": "markdown",
   "metadata": {},
   "source": [
    "### Importando bibliotecas"
   ]
  },
  {
   "cell_type": "code",
   "execution_count": 1,
   "metadata": {},
   "outputs": [],
   "source": [
    "from bs4 import BeautifulSoup\n",
    "import requests\n",
    "import pandas as pd\n",
    "import numpy as np\n",
    "import time\n",
    "import csv"
   ]
  },
  {
   "cell_type": "markdown",
   "metadata": {},
   "source": [
    "### Lista de categorias\n",
    "Cada categoria tem um nome e um link, o qual será usado para obter links dos produtos em cada página."
   ]
  },
  {
   "cell_type": "code",
   "execution_count": 254,
   "metadata": {},
   "outputs": [],
   "source": [
    "category_list = [\n",
    "    {\n",
    "        'name': 'Celulares',\n",
    "        'link': 'https://www.mercadolivre.com.br/ofertas?container_id=MLB779535-1&domain_id=MLB-CELLPHONES&page='\n",
    "    }, \n",
    "    {\n",
    "        'name': 'Notebooks',\n",
    "        'link': 'https://www.mercadolivre.com.br/ofertas?container_id=MLB779536-1&domain_id=MLB-NOTEBOOKS&page='\n",
    "    },\n",
    "    {\n",
    "        'name': 'Tênis',\n",
    "        'link': 'https://www.mercadolivre.com.br/ofertas?container_id=MLB779537-1&domain_id=MLB-SNEAKERS&page='\n",
    "    },\n",
    "    {\n",
    "        'name': 'Fones',\n",
    "        'link': 'https://www.mercadolivre.com.br/ofertas?container_id=MLB779538-1&domain_id=MLB-HEADPHONES&page='\n",
    "    },\n",
    "    {\n",
    "        'name': 'TVs',\n",
    "        'link': 'https://www.mercadolivre.com.br/ofertas?container_id=MLB779539-1&domain_id=MLB-TELEVISIONS&page='\n",
    "    },\n",
    "    {\n",
    "        'name': 'Ferramentas',\n",
    "        'link': 'https://www.mercadolivre.com.br/ofertas?container_id=MLB779540-1&domain_id=MLB-WELDING_MACHINES&page='\n",
    "    },\n",
    "    {\n",
    "        'name': 'Smartwatches',\n",
    "        'link': 'https://www.mercadolivre.com.br/ofertas?container_id=MLB779541-1&domain_id=MLB-SMARTWATCHES&page='\n",
    "    },\n",
    "    {\n",
    "        'name': 'Caixas de som',\n",
    "        'link': 'https://www.mercadolivre.com.br/ofertas?container_id=MLB779542-1&domain_id=MLB-SPEAKERS&page='\n",
    "    },\n",
    "    {\n",
    "        'name': 'Perfumes',\n",
    "        'link': 'https://www.mercadolivre.com.br/ofertas?container_id=MLB779543-1&domain_id=MLB-PERFUMES&page='\n",
    "    },\n",
    "    {\n",
    "        'name': 'Bebês',\n",
    "        'link': 'https://www.mercadolivre.com.br/ofertas?container_id=MLB773331-2&deal_ids=MLB773331-2&page='\n",
    "    }\n",
    "]"
   ]
  },
  {
   "cell_type": "markdown",
   "metadata": {},
   "source": [
    "### Funções para requisição de páginas e extração de links"
   ]
  },
  {
   "cell_type": "code",
   "execution_count": 255,
   "metadata": {},
   "outputs": [],
   "source": [
    "def request_page(url, force = True):\n",
    "    success = not force\n",
    "    page = None\n",
    "    while not success:\n",
    "        try:\n",
    "            response = requests.get(url, allow_redirects=False, timeout=(3.05, 27))\n",
    "            if response.is_redirect:\n",
    "                # Ignorando este url por ter redirecionado\n",
    "                break\n",
    "            page = BeautifulSoup(response.text)\n",
    "            success = True\n",
    "        except requests.exceptions.RequestException as e:\n",
    "            print(f\"Erro na requisição de {url}\")\n",
    "            time.sleep(60)\n",
    "    return page\n",
    "\n",
    "def get_links_from_page(page):\n",
    "    links = []\n",
    "    if page != None: \n",
    "        link_tags = page.find_all('a',  class_ = 'promotion-item__link-container')\n",
    "        for tag in link_tags:\n",
    "            links.append(tag['href'])\n",
    "    return links\n",
    "\n",
    "\n",
    "    "
   ]
  },
  {
   "cell_type": "markdown",
   "metadata": {},
   "source": [
    "### Obtendo links dos produtos de todas as categorias"
   ]
  },
  {
   "cell_type": "code",
   "execution_count": 256,
   "metadata": {},
   "outputs": [
    {
     "name": "stdout",
     "output_type": "stream",
     "text": [
      "Produtos da categoria Celulares adicionados com sucesso (Total = 960)\n",
      "Produtos da categoria Notebooks adicionados com sucesso (Total = 780)\n",
      "Produtos da categoria Tênis adicionados com sucesso (Total = 720)\n",
      "Produtos da categoria Fones adicionados com sucesso (Total = 960)\n",
      "Produtos da categoria TVs adicionados com sucesso (Total = 263)\n",
      "Produtos da categoria Ferramentas adicionados com sucesso (Total = 960)\n",
      "Produtos da categoria Smartwatches adicionados com sucesso (Total = 960)\n",
      "Produtos da categoria Caixas de som adicionados com sucesso (Total = 960)\n",
      "Produtos da categoria Perfumes adicionados com sucesso (Total = 960)\n",
      "Produtos da categoria Bebês adicionados com sucesso (Total = 960)\n"
     ]
    }
   ],
   "source": [
    "product_links = []\n",
    "# Para cada categoria\n",
    "for category in category_list:\n",
    "    # Gere uma lista de páginas de 1 até 20\n",
    "    page_list = [f\"{category['link']}{i+1}\" for i in range(20)]\n",
    "    category_product_total = 0\n",
    "    # Para cada página desta categoria\n",
    "    for page in page_list:\n",
    "        page_doc = request_page(page)\n",
    "        links = get_links_from_page(page_doc)\n",
    "        # Já passou da última página? Pare esta categoria\n",
    "        if (len(links) == 0):\n",
    "            break\n",
    "        # Adicione os links da página na lista de links dos produtos\n",
    "        product_links.extend(links)\n",
    "        category_product_total += len(links)\n",
    "    print(f\"Produtos da categoria {category['name']} adicionados com sucesso (Total = {category_product_total})\")"
   ]
  },
  {
   "cell_type": "code",
   "execution_count": 257,
   "metadata": {},
   "outputs": [
    {
     "name": "stdout",
     "output_type": "stream",
     "text": [
      "Total de produtos: 8483\n"
     ]
    }
   ],
   "source": [
    "print(f\"Total de produtos: {len(product_links)}\")"
   ]
  },
  {
   "cell_type": "markdown",
   "metadata": {},
   "source": [
    "### Salvando links dos produtos em um arquivo"
   ]
  },
  {
   "cell_type": "code",
   "execution_count": 258,
   "metadata": {},
   "outputs": [],
   "source": [
    "arr = np.asarray(product_links)\n",
    "np.savetxt('links.csv', arr, fmt = '%s', delimiter=\"\\n\")  "
   ]
  },
  {
   "cell_type": "markdown",
   "metadata": {},
   "source": [
    "## 2. Extração dos dados dos produtos\n",
    "Obtendo link do arquivo links.csv"
   ]
  },
  {
   "cell_type": "markdown",
   "metadata": {},
   "source": [
    "## Funções de extração dos dados"
   ]
  },
  {
   "cell_type": "code",
   "execution_count": 259,
   "metadata": {},
   "outputs": [],
   "source": [
    "# Retorna o nome do produto\n",
    "def get_name(product):\n",
    "    name = None\n",
    "    if product is not None:\n",
    "        name_tag = product.select_one('.ui-pdp-title')\n",
    "        if name_tag is not None:\n",
    "            name = name_tag.text\n",
    "    return name"
   ]
  },
  {
   "cell_type": "code",
   "execution_count": 260,
   "metadata": {},
   "outputs": [],
   "source": [
    "# Retorna o preço do produto (como string)\n",
    "def get_price(product):\n",
    "    price = None\n",
    "    if product is not None: \n",
    "        price_tag = product.select_one('div.ui-pdp-price__second-line > .andes-money-amount.ui-pdp-price__part.andes-money-amount--cents-superscript.andes-money-amount--compact')\n",
    "        if price_tag is not None:\n",
    "            price_fraction = price_tag.select_one('.andes-money-amount__fraction')\n",
    "            price_cents = price_tag.select_one('.andes-money-amount__cents')\n",
    "            price = price_fraction.text\n",
    "            if price_cents is not None:\n",
    "                price += \",\" + price_cents.text\n",
    "    return price"
   ]
  },
  {
   "cell_type": "code",
   "execution_count": 261,
   "metadata": {},
   "outputs": [],
   "source": [
    "# Retorna a avaliação do produto (como string)\n",
    "def get_rating(product):\n",
    "    rating = None\n",
    "    if product is not None:\n",
    "        rating_tag = product.select('.ui-review-capability__rating__average')\n",
    "        if len(rating_tag) > 0:\n",
    "            rating = rating_tag[0].text\n",
    "    return rating"
   ]
  },
  {
   "cell_type": "code",
   "execution_count": 262,
   "metadata": {},
   "outputs": [],
   "source": [
    "# Retorna a quantidade de avaliações do produto (como string)\n",
    "def get_review_count(product):\n",
    "    count = None\n",
    "    if product is not None:\n",
    "        count_tag = product.select('.ui-pdp-review__amount')\n",
    "        if len(count_tag) > 0:\n",
    "            count = count_tag[0].text.replace(\"(\", \"\").replace(\")\", \"\")\n",
    "    return count"
   ]
  },
  {
   "cell_type": "code",
   "execution_count": 263,
   "metadata": {},
   "outputs": [],
   "source": [
    "# Retorna a categoria específica do produto (como string)\n",
    "def get_category(product):\n",
    "    category = None\n",
    "    if product is not None:\n",
    "        category_tags = product.select('.andes-breadcrumb__link')\n",
    "        if category_tags is not None:\n",
    "            category = category_tags[-1].text\n",
    "    return category"
   ]
  },
  {
   "cell_type": "code",
   "execution_count": 264,
   "metadata": {},
   "outputs": [],
   "source": [
    "# Retorna o termômetro do vendedor deste produto\n",
    "def get_thermometer(product):\n",
    "    thermometer = None\n",
    "    if product is not None:\n",
    "        thermometer_tag = product.select_one('.ui-thermometer')\n",
    "        if thermometer_tag is not None:\n",
    "            thermometer = thermometer_tag['value']\n",
    "    return thermometer"
   ]
  },
  {
   "cell_type": "code",
   "execution_count": 265,
   "metadata": {},
   "outputs": [],
   "source": [
    "# Retorna o nome do vendedor\n",
    "def get_seller(product):\n",
    "    seller = None\n",
    "    if product is not None:\n",
    "        seller_tag = product.select_one('.ui-pdp-color--BLUE.ui-pdp-family--REGULAR')\n",
    "        if seller_tag is None:\n",
    "            seller_tag = product.select_one('.ui-pdp-seller__header__title')\n",
    "        if seller_tag is not None:\n",
    "            seller = seller_tag.text\n",
    "        if seller_tag is None:\n",
    "            seller_tag = product.select_one('.ui-pdp-media__action.ui-box-component__action')\n",
    "            if seller_tag is not None:\n",
    "               seller = seller_tag['href'].replace('https://perfil.mercadolivre.com.br/', '')\n",
    "    return seller"
   ]
  },
  {
   "cell_type": "code",
   "execution_count": 266,
   "metadata": {},
   "outputs": [],
   "source": [
    "# Requisição do produto\n",
    "def request_product(link, max_attempts = 1, only_if_full = False):\n",
    "    result = request_page(link)\n",
    "    i = 0\n",
    "    while result is not None and i < max_attempts:\n",
    "        i = i + 1\n",
    "        if get_rating(result) is not None and get_seller(result) is not None and get_thermometer(result) is not None:\n",
    "            return result\n",
    "    if only_if_full:\n",
    "        return None\n",
    "    return result\n",
    "    "
   ]
  },
  {
   "cell_type": "code",
   "execution_count": 234,
   "metadata": {},
   "outputs": [
    {
     "data": {
      "text/plain": [
       "'https://www.mercadolivre.com.br/samsung-galaxy-a04s-dual-sim-64-gb-green-4-gb-ram/p/MLB21078576?pdp_filters=category:MLB1055%7Cdeal:MLB779535-1&hide_psmb=true#searchVariation=MLB21078576&position=1&search_layout=grid&type=product&tracking_id=597ea181-8aab-4917-a647-7be6d74825a5&deal_print_id=4b469e91-caf9-4bf7-98c5-8df304187b5a&promotion_type=DEAL_OF_THE_DAY'"
      ]
     },
     "execution_count": 234,
     "metadata": {},
     "output_type": "execute_result"
    }
   ],
   "source": [
    "# Para teste\n",
    "link = 'https://www.mercadolivre.com.br/samsung-galaxy-a04s-dual-sim-64-gb-green-4-gb-ram/p/MLB21078576?pdp_filters=category:MLB1055%7Cdeal:MLB779535-1&hide_psmb=true#searchVariation=MLB21078576&position=1&search_layout=grid&type=product&tracking_id=597ea181-8aab-4917-a647-7be6d74825a5&deal_print_id=4b469e91-caf9-4bf7-98c5-8df304187b5a&promotion_type=DEAL_OF_THE_DAY'\n",
    "link"
   ]
  },
  {
   "cell_type": "code",
   "execution_count": 235,
   "metadata": {},
   "outputs": [],
   "source": [
    "# Obtendo a página\n",
    "product = request_product(link)"
   ]
  },
  {
   "cell_type": "code",
   "execution_count": 238,
   "metadata": {},
   "outputs": [
    {
     "name": "stdout",
     "output_type": "stream",
     "text": [
      "Samsung Galaxy A04s Dual SIM 64 GB green 4 GB RAM\n",
      "1.299\n",
      "Celulares e Smartphones\n",
      "4.8\n",
      "349\n",
      "5\n",
      "Mercado Livre\n"
     ]
    }
   ],
   "source": [
    "print(get_name(product))\n",
    "print(get_price(product))\n",
    "print(get_category(product))\n",
    "print(get_rating(product))\n",
    "print(get_review_count(product))\n",
    "print(get_thermometer(product))\n",
    "print(get_seller(product))"
   ]
  },
  {
   "cell_type": "markdown",
   "metadata": {},
   "source": [
    "## Extraindo dados de todos os produtos\n",
    "Vamos tentar extrair dados de todos os produtos e deixar o dataframe de links apenas com os produtos que falharam."
   ]
  },
  {
   "cell_type": "code",
   "execution_count": 271,
   "metadata": {},
   "outputs": [],
   "source": [
    "# Criando dataset\n",
    "df_products = pd.DataFrame([], columns=['Nome', 'Preço', 'Categoria', 'Avaliação', 'Número de avaliações', 'Termômetro', 'Vendedor'])"
   ]
  },
  {
   "cell_type": "code",
   "execution_count": 298,
   "metadata": {},
   "outputs": [],
   "source": [
    "# Coloca todos os dados dos produtos no data frame\n",
    "# O parâmetro only_full força a retornar apenas os produtos que têm todos os campos\n",
    "# Isso não vale para produtos de link https://produto.mercadolivre.com.br\n",
    "def get_all_products(only_full, max_amount = 10, max_product_request = 1):\n",
    "    global df_products, links\n",
    "    failed_links = []\n",
    "    names = []\n",
    "    prices = []\n",
    "    categories = []\n",
    "    ratings = []\n",
    "    review_counts = []\n",
    "    thermometers = []\n",
    "    sellers = []\n",
    "    i = 0\n",
    "    failed_count = 0\n",
    "    for link in links:\n",
    "        if i >= max_amount or (only_full and link.startswith('https://produto.mercadolivre.com.br')):\n",
    "            failed_links.append(link)\n",
    "            continue\n",
    "        product = request_product(link, max_product_request, only_full)\n",
    "        if product is None:\n",
    "            failed_links.append(link) \n",
    "            failed_count += 1\n",
    "            continue\n",
    "        i = i + 1\n",
    "        names.append(get_name(product))\n",
    "        prices.append(get_price(product))\n",
    "        categories.append(get_category(product))\n",
    "        ratings.append(get_rating(product))\n",
    "        review_counts.append(get_review_count(product))\n",
    "        thermometers.append(get_thermometer(product))\n",
    "        sellers.append(get_seller(product))\n",
    "    \n",
    "    links = failed_links\n",
    "    df_added = pd.DataFrame({\n",
    "        'Nome': names,\n",
    "        'Preço': prices,\n",
    "        'Categoria': categories,\n",
    "        'Avaliação': ratings,\n",
    "        'Número de avaliações': review_counts,\n",
    "        'Termômetro': thermometers,\n",
    "        'Vendedor': sellers\n",
    "    })\n",
    "    df_products = pd.concat([df_products, df_added])\n",
    "    df_products = df_products.reset_index(drop=True)\n",
    "    print(f\"Quantidade atual de produtos: {len(df_products)}\")\n",
    "    print(f\"Restante: {len(failed_links)}\")\n",
    "    print(f\"Falharam: {failed_count}\")\n",
    "    save_dataset()\n",
    "    return df_products\n",
    "# Salvar dataset e lista de links restantes\n",
    "def save_dataset():\n",
    "    df_products.to_csv(\"dataset.csv\", index=False)\n",
    "    np.savetxt('missing_links.csv', np.asarray(links), fmt = '%s', delimiter=\"\\n\") \n",
    "# Carregar dataset e lista de links restantes\n",
    "def load_dataset():\n",
    "    global df_products\n",
    "    df_products = pd.read_csv('dataset.csv')\n",
    "    file = open('missing_links.csv', 'r')\n",
    "    links = list(csv.reader(file, delimiter=\"\\n\"))\n",
    "    links = [row[0] for row in links]\n",
    "    file.close()\n",
    "    return df_products"
   ]
  },
  {
   "cell_type": "markdown",
   "metadata": {},
   "source": [
    "### Extraindo dados"
   ]
  },
  {
   "cell_type": "code",
   "execution_count": 295,
   "metadata": {},
   "outputs": [
    {
     "data": {
      "text/html": [
       "<div>\n",
       "<style scoped>\n",
       "    .dataframe tbody tr th:only-of-type {\n",
       "        vertical-align: middle;\n",
       "    }\n",
       "\n",
       "    .dataframe tbody tr th {\n",
       "        vertical-align: top;\n",
       "    }\n",
       "\n",
       "    .dataframe thead th {\n",
       "        text-align: right;\n",
       "    }\n",
       "</style>\n",
       "<table border=\"1\" class=\"dataframe\">\n",
       "  <thead>\n",
       "    <tr style=\"text-align: right;\">\n",
       "      <th></th>\n",
       "      <th>Nome</th>\n",
       "      <th>Preço</th>\n",
       "      <th>Categoria</th>\n",
       "      <th>Avaliação</th>\n",
       "      <th>Número de avaliações</th>\n",
       "      <th>Termômetro</th>\n",
       "      <th>Vendedor</th>\n",
       "    </tr>\n",
       "  </thead>\n",
       "  <tbody>\n",
       "    <tr>\n",
       "      <th>0</th>\n",
       "      <td>Smartphone Samsung Galaxy A14 5g 128gb 4gb Preto</td>\n",
       "      <td>1.099</td>\n",
       "      <td>Celulares e Smartphones</td>\n",
       "      <td>4.8</td>\n",
       "      <td>205</td>\n",
       "      <td>5</td>\n",
       "      <td>Mercado Livre</td>\n",
       "    </tr>\n",
       "    <tr>\n",
       "      <th>1</th>\n",
       "      <td>Moto E40 Dual SIM 64 GB grafite 4 GB RAM</td>\n",
       "      <td>769</td>\n",
       "      <td>Celulares e Smartphones</td>\n",
       "      <td>4.6</td>\n",
       "      <td>824</td>\n",
       "      <td>5</td>\n",
       "      <td>123 Comprou</td>\n",
       "    </tr>\n",
       "    <tr>\n",
       "      <th>2</th>\n",
       "      <td>Samsung Galaxy S20 FE 5G 5G Dual SIM 128 GB cl...</td>\n",
       "      <td>1.869</td>\n",
       "      <td>Celulares e Smartphones</td>\n",
       "      <td>4.8</td>\n",
       "      <td>2281</td>\n",
       "      <td>5</td>\n",
       "      <td>Mercado Livre</td>\n",
       "    </tr>\n",
       "    <tr>\n",
       "      <th>3</th>\n",
       "      <td>Apple iPhone 11 (128 GB) - Branco</td>\n",
       "      <td>3.988,10</td>\n",
       "      <td>Celulares e Smartphones</td>\n",
       "      <td>4.5</td>\n",
       "      <td>2573</td>\n",
       "      <td>5</td>\n",
       "      <td>NILTONDASILVALIPPERTJUNIOR</td>\n",
       "    </tr>\n",
       "    <tr>\n",
       "      <th>4</th>\n",
       "      <td>Xiaomi Redmi Note 11 (Snapdragon) Dual SIM 128...</td>\n",
       "      <td>1.229,30</td>\n",
       "      <td>Celulares e Smartphones</td>\n",
       "      <td>4.7</td>\n",
       "      <td>4057</td>\n",
       "      <td>5</td>\n",
       "      <td>JEFERSON ELETROSTORE</td>\n",
       "    </tr>\n",
       "    <tr>\n",
       "      <th>...</th>\n",
       "      <td>...</td>\n",
       "      <td>...</td>\n",
       "      <td>...</td>\n",
       "      <td>...</td>\n",
       "      <td>...</td>\n",
       "      <td>...</td>\n",
       "      <td>...</td>\n",
       "    </tr>\n",
       "    <tr>\n",
       "      <th>315</th>\n",
       "      <td>Fone de ouvido over-ear gamer Havit H2002d black</td>\n",
       "      <td>219</td>\n",
       "      <td>Fones</td>\n",
       "      <td>4.8</td>\n",
       "      <td>1163</td>\n",
       "      <td>5</td>\n",
       "      <td>BLK ARROW</td>\n",
       "    </tr>\n",
       "    <tr>\n",
       "      <th>316</th>\n",
       "      <td>Fone de ouvido in-ear sem fio Samsung Galaxy B...</td>\n",
       "      <td>399</td>\n",
       "      <td>Fones de Ouvido</td>\n",
       "      <td>4.8</td>\n",
       "      <td>874</td>\n",
       "      <td>5</td>\n",
       "      <td>Mercado Livre</td>\n",
       "    </tr>\n",
       "    <tr>\n",
       "      <th>317</th>\n",
       "      <td>Fone de ouvido in-ear sem fio QCY T1C branco</td>\n",
       "      <td>105,30</td>\n",
       "      <td>Fones e Kits Viva Voz</td>\n",
       "      <td>4.6</td>\n",
       "      <td>13519</td>\n",
       "      <td>5</td>\n",
       "      <td>QCY</td>\n",
       "    </tr>\n",
       "    <tr>\n",
       "      <th>318</th>\n",
       "      <td>Fone de ouvido in-ear gamer sem fio Samsung Ga...</td>\n",
       "      <td>839</td>\n",
       "      <td>Fones de Ouvido</td>\n",
       "      <td>4.8</td>\n",
       "      <td>139</td>\n",
       "      <td>5</td>\n",
       "      <td>Mercado Livre</td>\n",
       "    </tr>\n",
       "    <tr>\n",
       "      <th>319</th>\n",
       "      <td>Fone de ouvido in-ear sem fio QCY True Wireles...</td>\n",
       "      <td>166,50</td>\n",
       "      <td>Fones e Kits Viva Voz</td>\n",
       "      <td>4.8</td>\n",
       "      <td>3316</td>\n",
       "      <td>5</td>\n",
       "      <td>QCY</td>\n",
       "    </tr>\n",
       "  </tbody>\n",
       "</table>\n",
       "<p>320 rows × 7 columns</p>\n",
       "</div>"
      ],
      "text/plain": [
       "                                                  Nome     Preço   \n",
       "0     Smartphone Samsung Galaxy A14 5g 128gb 4gb Preto     1.099  \\\n",
       "1             Moto E40 Dual SIM 64 GB grafite 4 GB RAM       769   \n",
       "2    Samsung Galaxy S20 FE 5G 5G Dual SIM 128 GB cl...     1.869   \n",
       "3                    Apple iPhone 11 (128 GB) - Branco  3.988,10   \n",
       "4    Xiaomi Redmi Note 11 (Snapdragon) Dual SIM 128...  1.229,30   \n",
       "..                                                 ...       ...   \n",
       "315   Fone de ouvido over-ear gamer Havit H2002d black       219   \n",
       "316  Fone de ouvido in-ear sem fio Samsung Galaxy B...       399   \n",
       "317       Fone de ouvido in-ear sem fio QCY T1C branco    105,30   \n",
       "318  Fone de ouvido in-ear gamer sem fio Samsung Ga...       839   \n",
       "319  Fone de ouvido in-ear sem fio QCY True Wireles...    166,50   \n",
       "\n",
       "                   Categoria  Avaliação  Número de avaliações  Termômetro   \n",
       "0    Celulares e Smartphones        4.8                   205           5  \\\n",
       "1    Celulares e Smartphones        4.6                   824           5   \n",
       "2    Celulares e Smartphones        4.8                  2281           5   \n",
       "3    Celulares e Smartphones        4.5                  2573           5   \n",
       "4    Celulares e Smartphones        4.7                  4057           5   \n",
       "..                       ...        ...                   ...         ...   \n",
       "315                    Fones        4.8                  1163           5   \n",
       "316          Fones de Ouvido        4.8                   874           5   \n",
       "317    Fones e Kits Viva Voz        4.6                 13519           5   \n",
       "318          Fones de Ouvido        4.8                   139           5   \n",
       "319    Fones e Kits Viva Voz        4.8                  3316           5   \n",
       "\n",
       "                       Vendedor  \n",
       "0                 Mercado Livre  \n",
       "1                   123 Comprou  \n",
       "2                 Mercado Livre  \n",
       "3    NILTONDASILVALIPPERTJUNIOR  \n",
       "4          JEFERSON ELETROSTORE  \n",
       "..                          ...  \n",
       "315                   BLK ARROW  \n",
       "316               Mercado Livre  \n",
       "317                         QCY  \n",
       "318               Mercado Livre  \n",
       "319                         QCY  \n",
       "\n",
       "[320 rows x 7 columns]"
      ]
     },
     "execution_count": 295,
     "metadata": {},
     "output_type": "execute_result"
    }
   ],
   "source": [
    "# Carregando dataset obtido até o momento\n",
    "load_dataset()"
   ]
  },
  {
   "cell_type": "code",
   "execution_count": 307,
   "metadata": {},
   "outputs": [
    {
     "name": "stdout",
     "output_type": "stream",
     "text": [
      "Quantidade atual de produtos: 1300\n",
      "Restante: 7183\n",
      "Falharam: 437\n"
     ]
    },
    {
     "data": {
      "text/html": [
       "<div>\n",
       "<style scoped>\n",
       "    .dataframe tbody tr th:only-of-type {\n",
       "        vertical-align: middle;\n",
       "    }\n",
       "\n",
       "    .dataframe tbody tr th {\n",
       "        vertical-align: top;\n",
       "    }\n",
       "\n",
       "    .dataframe thead th {\n",
       "        text-align: right;\n",
       "    }\n",
       "</style>\n",
       "<table border=\"1\" class=\"dataframe\">\n",
       "  <thead>\n",
       "    <tr style=\"text-align: right;\">\n",
       "      <th></th>\n",
       "      <th>Nome</th>\n",
       "      <th>Preço</th>\n",
       "      <th>Categoria</th>\n",
       "      <th>Avaliação</th>\n",
       "      <th>Número de avaliações</th>\n",
       "      <th>Termômetro</th>\n",
       "      <th>Vendedor</th>\n",
       "    </tr>\n",
       "  </thead>\n",
       "  <tbody>\n",
       "    <tr>\n",
       "      <th>0</th>\n",
       "      <td>Smartphone Samsung Galaxy A14 5g 128gb 4gb Preto</td>\n",
       "      <td>1.099</td>\n",
       "      <td>Celulares e Smartphones</td>\n",
       "      <td>4.8</td>\n",
       "      <td>205</td>\n",
       "      <td>5</td>\n",
       "      <td>Mercado Livre</td>\n",
       "    </tr>\n",
       "    <tr>\n",
       "      <th>1</th>\n",
       "      <td>Moto E40 Dual SIM 64 GB grafite 4 GB RAM</td>\n",
       "      <td>769</td>\n",
       "      <td>Celulares e Smartphones</td>\n",
       "      <td>4.6</td>\n",
       "      <td>824</td>\n",
       "      <td>5</td>\n",
       "      <td>123 Comprou</td>\n",
       "    </tr>\n",
       "    <tr>\n",
       "      <th>2</th>\n",
       "      <td>Samsung Galaxy S20 FE 5G 5G Dual SIM 128 GB cl...</td>\n",
       "      <td>1.869</td>\n",
       "      <td>Celulares e Smartphones</td>\n",
       "      <td>4.8</td>\n",
       "      <td>2281</td>\n",
       "      <td>5</td>\n",
       "      <td>Mercado Livre</td>\n",
       "    </tr>\n",
       "    <tr>\n",
       "      <th>3</th>\n",
       "      <td>Apple iPhone 11 (128 GB) - Branco</td>\n",
       "      <td>3.988,10</td>\n",
       "      <td>Celulares e Smartphones</td>\n",
       "      <td>4.5</td>\n",
       "      <td>2573</td>\n",
       "      <td>5</td>\n",
       "      <td>NILTONDASILVALIPPERTJUNIOR</td>\n",
       "    </tr>\n",
       "    <tr>\n",
       "      <th>4</th>\n",
       "      <td>Xiaomi Redmi Note 11 (Snapdragon) Dual SIM 128...</td>\n",
       "      <td>1.229,30</td>\n",
       "      <td>Celulares e Smartphones</td>\n",
       "      <td>4.7</td>\n",
       "      <td>4057</td>\n",
       "      <td>5</td>\n",
       "      <td>JEFERSON ELETROSTORE</td>\n",
       "    </tr>\n",
       "    <tr>\n",
       "      <th>...</th>\n",
       "      <td>...</td>\n",
       "      <td>...</td>\n",
       "      <td>...</td>\n",
       "      <td>...</td>\n",
       "      <td>...</td>\n",
       "      <td>...</td>\n",
       "      <td>...</td>\n",
       "    </tr>\n",
       "    <tr>\n",
       "      <th>1295</th>\n",
       "      <td>Pilha Mox Recarregável MO-AAA1000B4 Cilíndrica...</td>\n",
       "      <td>29,52</td>\n",
       "      <td>Pilhas</td>\n",
       "      <td>4.5</td>\n",
       "      <td>15</td>\n",
       "      <td>5</td>\n",
       "      <td>SUMMER ELETRONICOS</td>\n",
       "    </tr>\n",
       "    <tr>\n",
       "      <th>1296</th>\n",
       "      <td>Sabonete líquido Protex Duo Protect Antibacter...</td>\n",
       "      <td>28,95</td>\n",
       "      <td>Líquido</td>\n",
       "      <td>5.0</td>\n",
       "      <td>10</td>\n",
       "      <td>5</td>\n",
       "      <td>Mercado Livre</td>\n",
       "    </tr>\n",
       "    <tr>\n",
       "      <th>1297</th>\n",
       "      <td>Fraldas Pampers Ajuste Total Pants M 42 u</td>\n",
       "      <td>56,85</td>\n",
       "      <td>Descartáveis</td>\n",
       "      <td>4.9</td>\n",
       "      <td>677</td>\n",
       "      <td>5</td>\n",
       "      <td>Web Mercadinho</td>\n",
       "    </tr>\n",
       "    <tr>\n",
       "      <th>1298</th>\n",
       "      <td>Castanha Portuguesa Frutnut 300g</td>\n",
       "      <td>55,92</td>\n",
       "      <td>Frutas Secas</td>\n",
       "      <td>4.8</td>\n",
       "      <td>5</td>\n",
       "      <td>5</td>\n",
       "      <td>DG COMÉRCIO</td>\n",
       "    </tr>\n",
       "    <tr>\n",
       "      <th>1299</th>\n",
       "      <td>Cesta Básica Higiene E Limpeza Doação Social E...</td>\n",
       "      <td>55,17</td>\n",
       "      <td>Cestas Básicas</td>\n",
       "      <td>4.8</td>\n",
       "      <td>5</td>\n",
       "      <td>5</td>\n",
       "      <td>DUANDRA MEGASTORE</td>\n",
       "    </tr>\n",
       "  </tbody>\n",
       "</table>\n",
       "<p>1300 rows × 7 columns</p>\n",
       "</div>"
      ],
      "text/plain": [
       "                                                   Nome     Preço   \n",
       "0      Smartphone Samsung Galaxy A14 5g 128gb 4gb Preto     1.099  \\\n",
       "1              Moto E40 Dual SIM 64 GB grafite 4 GB RAM       769   \n",
       "2     Samsung Galaxy S20 FE 5G 5G Dual SIM 128 GB cl...     1.869   \n",
       "3                     Apple iPhone 11 (128 GB) - Branco  3.988,10   \n",
       "4     Xiaomi Redmi Note 11 (Snapdragon) Dual SIM 128...  1.229,30   \n",
       "...                                                 ...       ...   \n",
       "1295  Pilha Mox Recarregável MO-AAA1000B4 Cilíndrica...     29,52   \n",
       "1296  Sabonete líquido Protex Duo Protect Antibacter...     28,95   \n",
       "1297          Fraldas Pampers Ajuste Total Pants M 42 u     56,85   \n",
       "1298                   Castanha Portuguesa Frutnut 300g     55,92   \n",
       "1299  Cesta Básica Higiene E Limpeza Doação Social E...     55,17   \n",
       "\n",
       "                    Categoria Avaliação Número de avaliações Termômetro   \n",
       "0     Celulares e Smartphones       4.8                  205          5  \\\n",
       "1     Celulares e Smartphones       4.6                  824          5   \n",
       "2     Celulares e Smartphones       4.8                 2281          5   \n",
       "3     Celulares e Smartphones       4.5                 2573          5   \n",
       "4     Celulares e Smartphones       4.7                 4057          5   \n",
       "...                       ...       ...                  ...        ...   \n",
       "1295                   Pilhas       4.5                   15          5   \n",
       "1296                  Líquido       5.0                   10          5   \n",
       "1297             Descartáveis       4.9                  677          5   \n",
       "1298             Frutas Secas       4.8                    5          5   \n",
       "1299           Cestas Básicas       4.8                    5          5   \n",
       "\n",
       "                        Vendedor  \n",
       "0                  Mercado Livre  \n",
       "1                    123 Comprou  \n",
       "2                  Mercado Livre  \n",
       "3     NILTONDASILVALIPPERTJUNIOR  \n",
       "4           JEFERSON ELETROSTORE  \n",
       "...                          ...  \n",
       "1295          SUMMER ELETRONICOS  \n",
       "1296               Mercado Livre  \n",
       "1297              Web Mercadinho  \n",
       "1298                 DG COMÉRCIO  \n",
       "1299           DUANDRA MEGASTORE  \n",
       "\n",
       "[1300 rows x 7 columns]"
      ]
     },
     "execution_count": 307,
     "metadata": {},
     "output_type": "execute_result"
    }
   ],
   "source": [
    "# Esta célula deve ser executada várias vezes até a quantidade dos que falharam ser insignificante\n",
    "# Adiciona apenas os produtos que têm todos os campos preenchidos\n",
    "get_all_products(only_full = True, max_amount = 100, max_product_request=1)"
   ]
  }
 ],
 "metadata": {
  "kernelspec": {
   "display_name": "Python 3.11.0 64-bit",
   "language": "python",
   "name": "python3"
  },
  "language_info": {
   "codemirror_mode": {
    "name": "ipython",
    "version": 3
   },
   "file_extension": ".py",
   "mimetype": "text/x-python",
   "name": "python",
   "nbconvert_exporter": "python",
   "pygments_lexer": "ipython3",
   "version": "3.11.0"
  },
  "orig_nbformat": 4,
  "vscode": {
   "interpreter": {
    "hash": "c261aea317cc0286b3b3261fbba9abdec21eaa57589985bb7a274bf54d6cc0a7"
   }
  }
 },
 "nbformat": 4,
 "nbformat_minor": 2
}
